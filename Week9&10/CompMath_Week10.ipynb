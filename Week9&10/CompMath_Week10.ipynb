{
  "nbformat": 4,
  "nbformat_minor": 0,
  "metadata": {
    "colab": {
      "provenance": []
    },
    "kernelspec": {
      "name": "python3",
      "display_name": "Python 3"
    },
    "language_info": {
      "name": "python"
    }
  },
  "cells": [
    {
      "cell_type": "markdown",
      "source": [
        "# **Numerical Solution of Ordinary Differential Equations.** Picard’s Method, Taylor series method, Euler and modified Euler method, Runge-Kutta methods."
      ],
      "metadata": {
        "id": "UrbC9tSJL3-A"
      }
    },
    {
      "cell_type": "markdown",
      "source": [
        "1. Picard’s Method\n",
        "\n",
        "Example 1: Solving dy/dx=x+y, with y(0)=1"
      ],
      "metadata": {
        "id": "E3t6sn6PMhNI"
      }
    },
    {
      "cell_type": "code",
      "execution_count": 1,
      "metadata": {
        "colab": {
          "base_uri": "https://localhost:8080/"
        },
        "id": "HmcoBM52L2rE",
        "outputId": "4af83d92-e34b-443a-cc58-9482fafb870c"
      },
      "outputs": [
        {
          "output_type": "stream",
          "name": "stdout",
          "text": [
            "First Approximation: x**2/2 + x + 1\n",
            "Second Approximation: x**3/6 + x**2 + x + 1\n",
            "Third Approximation: x**4/24 + x**3/3 + x**2 + x + 1\n"
          ]
        }
      ],
      "source": [
        "import sympy as sp\n",
        "\n",
        "x = sp.Symbol('x')\n",
        "y = sp.Function('y')(x)\n",
        "\n",
        "# Differential equation\n",
        "dy_dx = sp.Derivative(y, x) - (x + y)\n",
        "\n",
        "# Initial condition\n",
        "y0 = 1\n",
        "\n",
        "# Picard's successive approximations\n",
        "y1 = y0 + sp.integrate(x + y0, x)\n",
        "y2 = y0 + sp.integrate(x + y1, x)\n",
        "y3 = y0 + sp.integrate(x + y2, x)\n",
        "\n",
        "print(\"First Approximation:\", y1)\n",
        "print(\"Second Approximation:\", y2)\n",
        "print(\"Third Approximation:\", y3)\n"
      ]
    },
    {
      "cell_type": "markdown",
      "source": [
        "1. First Approximation: Replace y in f(x,y) with y0​ and integrate.\n",
        "2. Second Approximation: Substitute the first approximation into f(x,y).\n",
        "3. Third Approximation: Repeat the process to obtain a better result."
      ],
      "metadata": {
        "id": "TYvsknnzMsg4"
      }
    },
    {
      "cell_type": "markdown",
      "source": [
        "2. Taylor Series Method\n",
        "\n",
        "Example 2: Solving dy/dx = x^2 − y, with y(0)=1"
      ],
      "metadata": {
        "id": "ms2bKz6nM92Q"
      }
    },
    {
      "cell_type": "code",
      "source": [
        "# Define variables and function\n",
        "x = sp.Symbol('x')\n",
        "y = sp.Function('y')(x)\n",
        "\n",
        "# Differential equation\n",
        "dy_dx = x**2 - y\n",
        "\n",
        "# Taylor series expansion\n",
        "y0 = 1  # initial condition\n",
        "y_prime = dy_dx.subs(y, y0)\n",
        "y_double_prime = sp.diff(dy_dx, x) + sp.diff(dy_dx, y) * y_prime\n",
        "y_triple_prime = sp.diff(y_double_prime, x) + sp.diff(y_double_prime, y) * y_prime\n",
        "\n",
        "# Taylor series expansion around x = 0\n",
        "taylor_series = y0 + y_prime * x + (y_double_prime * x**2) / 2 + (y_triple_prime * x**3) / 6\n",
        "print(\"Taylor Series Approximation:\", taylor_series)\n"
      ],
      "metadata": {
        "colab": {
          "base_uri": "https://localhost:8080/"
        },
        "id": "Yh8-J__-NMeP",
        "outputId": "bdb0a32d-20b1-4e8b-9ce6-7f073d714dcc"
      },
      "execution_count": 2,
      "outputs": [
        {
          "output_type": "stream",
          "name": "stdout",
          "text": [
            "Taylor Series Approximation: x**3*(-2*x - Derivative(y(x), (x, 2)) + 2)/6 + x**2*(-x**2 + 2*x - Derivative(y(x), x) + 1)/2 + x*(x**2 - 1) + 1\n"
          ]
        }
      ]
    },
    {
      "cell_type": "markdown",
      "source": [
        "1. First Derivative: Use the given ODE to find dy/dx​.\n",
        "2. Higher-Order Derivatives: Differentiate repeatedly to build the Taylor series.\n",
        "3. Approximation: Use the series to estimate y for small x."
      ],
      "metadata": {
        "id": "ev6VdQwbNP_n"
      }
    },
    {
      "cell_type": "markdown",
      "source": [
        "3. Euler’s Method\n",
        "\n",
        "Example 3: Solving dy/dx=x+y, with y(0)=1"
      ],
      "metadata": {
        "id": "rCk6E7odNWKR"
      }
    },
    {
      "cell_type": "code",
      "source": [
        "# Euler's Method Implementation\n",
        "def euler_method(f, x0, y0, h, n):\n",
        "    x, y = x0, y0\n",
        "    for i in range(n):\n",
        "        y += h * f(x, y)\n",
        "        x += h\n",
        "    return y\n",
        "\n",
        "# Define function f(x, y)\n",
        "f = lambda x, y: x + y\n",
        "\n",
        "# Parameters\n",
        "x0, y0 = 0, 1\n",
        "h = 0.1  # step size\n",
        "n = 10   # number of steps\n",
        "\n",
        "approx_value = euler_method(f, x0, y0, h, n)\n",
        "print(f\"Approximate value at x = {x0 + n*h}: {approx_value}\")\n"
      ],
      "metadata": {
        "colab": {
          "base_uri": "https://localhost:8080/"
        },
        "id": "_SIZ0ymyNuow",
        "outputId": "137fa0ca-a98d-4269-8e6b-77826cfc7bf4"
      },
      "execution_count": 3,
      "outputs": [
        {
          "output_type": "stream",
          "name": "stdout",
          "text": [
            "Approximate value at x = 1.0: 3.1874849202\n"
          ]
        }
      ]
    },
    {
      "cell_type": "markdown",
      "source": [
        "1. Concept: Approximate the curve by small tangent steps.\n",
        "2. Iteration: Update y using yn + 1 = yn + hf(xn,yn).\n",
        "3. Accuracy: Small step sizes h improve the result but increase computation."
      ],
      "metadata": {
        "id": "UGPA4nxAN0fx"
      }
    },
    {
      "cell_type": "markdown",
      "source": [
        "4. Modified Euler’s Method\n",
        "\n",
        "Example 4: Solving dy/dx=x−y, with y(0)=1"
      ],
      "metadata": {
        "id": "MadSLEDOOcFm"
      }
    },
    {
      "cell_type": "code",
      "source": [
        "# Modified Euler's Method Implementation\n",
        "def modified_euler(f, x0, y0, h, n):\n",
        "    x, y = x0, y0\n",
        "    for i in range(n):\n",
        "        y_predict = y + h * f(x, y)  # Predictor step\n",
        "        y_correct = y + (h / 2) * (f(x, y) + f(x + h, y_predict))  # Corrector step\n",
        "        y = y_correct\n",
        "        x += h\n",
        "    return y\n",
        "\n",
        "# Define function f(x, y)\n",
        "f = lambda x, y: x - y\n",
        "\n",
        "# Parameters\n",
        "x0, y0 = 0, 1\n",
        "h = 0.2  # step size\n",
        "n = 10   # number of steps\n",
        "\n",
        "approx_value = modified_euler(f, x0, y0, h, n)\n",
        "print(f\"Approximate value at x = {x0 + n*h}: {approx_value}\")\n"
      ],
      "metadata": {
        "colab": {
          "base_uri": "https://localhost:8080/"
        },
        "id": "6DSo_K-WOjGG",
        "outputId": "a1985ec2-4b45-4a7f-f540-7be9df8e8daa"
      },
      "execution_count": 4,
      "outputs": [
        {
          "output_type": "stream",
          "name": "stdout",
          "text": [
            "Approximate value at x = 2.0: 1.274896062671921\n"
          ]
        }
      ]
    },
    {
      "cell_type": "markdown",
      "source": [
        "1. Predictor Step: Uses regular Euler’s method to estimate ![Screenshot 2025-01-05 at 17-30-31 Сomputational Mathematics.png](data:image/png;base64,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)\n",
        "2. Corrector Step: Refines the result using the average slope:\n",
        "\n",
        "![Screenshot 2025-01-05 at 17-31-07 Сomputational Mathematics.png](data:image/png;base64,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)\n",
        "\n",
        "3. Improved Accuracy: Combines Euler’s simplicity with higher accuracy."
      ],
      "metadata": {
        "id": "xwGC9Jy2OiZ3"
      }
    },
    {
      "cell_type": "markdown",
      "source": [
        "5. Runge-Kutta Methods\n",
        "\n",
        "Example 5: Solving dy/dx=x+y, with y(0)=1 using RK4"
      ],
      "metadata": {
        "id": "KM9-9GXaO-2_"
      }
    },
    {
      "cell_type": "code",
      "source": [
        "# Runge-Kutta 4th Order Method (RK4) Implementation\n",
        "def runge_kutta(f, x0, y0, h, n):\n",
        "    x, y = x0, y0\n",
        "    for i in range(n):\n",
        "        k1 = h * f(x, y)\n",
        "        k2 = h * f(x + h / 2, y + k1 / 2)\n",
        "        k3 = h * f(x + h / 2, y + k2 / 2)\n",
        "        k4 = h * f(x + h, y + k3)\n",
        "        y += (k1 + 2*k2 + 2*k3 + k4) / 6\n",
        "        x += h\n",
        "    return y\n",
        "\n",
        "# Define function f(x, y)\n",
        "f = lambda x, y: x + y\n",
        "\n",
        "# Parameters\n",
        "x0, y0 = 0, 1\n",
        "h = 0.1  # step size\n",
        "n = 10   # number of steps\n",
        "\n",
        "approx_value = runge_kutta(f, x0, y0, h, n)\n",
        "print(f\"Approximate value at x = {x0 + n*h}: {approx_value}\")\n"
      ],
      "metadata": {
        "colab": {
          "base_uri": "https://localhost:8080/"
        },
        "id": "JUp133tGPFbz",
        "outputId": "1aaf8482-9ade-4608-8f4b-ddad92bff86a"
      },
      "execution_count": 5,
      "outputs": [
        {
          "output_type": "stream",
          "name": "stdout",
          "text": [
            "Approximate value at x = 1.0: 3.436559488270332\n"
          ]
        }
      ]
    },
    {
      "cell_type": "markdown",
      "source": [
        "1. Intermediate Slopes (k1, k2, k3, k4): RK4 computes four slopes:\n",
        "- k1​: Initial slope.\n",
        "- k2​,k3​: Midpoint slopes for better accuracy.\n",
        "- k4​: Final slope.\n",
        "2. Weighted Average: Combines these slopes to calculate yn+1​:\n",
        "![Screenshot 2025-01-05 at 17-38-38 Сomputational Mathematics.png](data:image/png;base64,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)\n",
        "\n",
        "3. High Accuracy: RK4 is widely used due to its excellent balance between accuracy and computational effort."
      ],
      "metadata": {
        "id": "FMjTpNC_PpcG"
      }
    },
    {
      "cell_type": "markdown",
      "source": [
        "Summary for Week 10\n",
        "\n",
        "    Picard’s Method: Uses iterative successive approximations to solve ODEs.\n",
        "    \n",
        "    Taylor Series Method: Expands the solution in a power series for local accuracy.\n",
        "    \n",
        "    Euler’s Method: A simple first-order method that approximates solutions step by step.\n",
        "    \n",
        "    Modified Euler’s Method: Improves accuracy by incorporating a corrector step.\n",
        "    \n",
        "    Runge-Kutta Methods: Highly accurate techniques, especially RK4, for solving ODEs in fewer steps."
      ],
      "metadata": {
        "id": "XwZ8LzHZQuoe"
      }
    }
  ]
}