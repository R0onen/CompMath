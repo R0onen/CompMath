{
  "nbformat": 4,
  "nbformat_minor": 0,
  "metadata": {
    "colab": {
      "provenance": []
    },
    "kernelspec": {
      "name": "python3",
      "display_name": "Python 3"
    },
    "language_info": {
      "name": "python"
    }
  },
  "cells": [
    {
      "cell_type": "markdown",
      "source": [
        "# **Numerical Integration.** Newton – Cotes integration formula, Trapezoidal rule, Simpson’s rule, Boole’s rule and Weddle’s rule, Romberg’s Integration. Errors in Quadrature Formulae."
      ],
      "metadata": {
        "id": "AJRGqJfKCA-V"
      }
    },
    {
      "cell_type": "markdown",
      "source": [
        "1. Newton-Cotes Quadrature Formula\n",
        "\n",
        "Example 1: Approximate Integration Using Newton-Cotes Formula\n",
        "\n",
        "Problem: Evaluate the integral\n",
        "\n",
        "![Screenshot 2025-01-05 at 16-47-51 Сomputational Mathematics.png](data:image/png;base64,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)\n",
        "\n",
        "using Newton-Cotes Quadrature Formula with 4 intervals."
      ],
      "metadata": {
        "id": "cIY6gQy-E5RS"
      }
    },
    {
      "cell_type": "code",
      "source": [
        "import numpy as np\n",
        "\n",
        "# Function to integrate\n",
        "def f(x):\n",
        "    return x**2 + 2*x + 1\n",
        "\n",
        "# Newton-Cotes Integration\n",
        "a, b = 0, 4  # Integration limits\n",
        "n = 4  # Number of intervals\n",
        "x = np.linspace(a, b, n+1)\n",
        "y = f(x)\n",
        "\n",
        "h = (b - a) / n  # Step size\n",
        "I = h * (y[0] + 2 * sum(y[1:-1]) + y[-1]) / 2  # Newton-Cotes formula\n",
        "\n",
        "print(f\"Approximate value of the integral: {I}\")\n"
      ],
      "metadata": {
        "colab": {
          "base_uri": "https://localhost:8080/"
        },
        "id": "xdVafVfhFH2X",
        "outputId": "32d983f4-ffd9-41c0-bf5d-af7dac620c3c"
      },
      "execution_count": 1,
      "outputs": [
        {
          "output_type": "stream",
          "name": "stdout",
          "text": [
            "Approximate value of the integral: 42.0\n"
          ]
        }
      ]
    },
    {
      "cell_type": "markdown",
      "source": [
        "1. Overview: This formula provides a general framework for approximating definite integrals by fitting polynomials to the integrand.\n",
        "2. Key Idea: The method subdivides the integration interval into smaller segments and applies polynomial approximation over each segment for improved accuracy."
      ],
      "metadata": {
        "id": "RHFxbZlCFxOt"
      }
    },
    {
      "cell_type": "markdown",
      "source": [
        "2. Trapezoidal Rule\n",
        "\n",
        "Example 2: Using the Trapezoidal Rule\n",
        "\n",
        "Problem: Evaluate\n",
        "\n",
        "![Screenshot 2025-01-05 at 16-52-18 Сomputational Mathematics.png](data:image/png;base64,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)\n",
        "\n",
        "using the Trapezoidal Rule with 4 intervals."
      ],
      "metadata": {
        "id": "NL07mfxUF7qy"
      }
    },
    {
      "cell_type": "code",
      "execution_count": 2,
      "metadata": {
        "colab": {
          "base_uri": "https://localhost:8080/"
        },
        "id": "yvHXKxxFB3nL",
        "outputId": "3f46593d-863c-42cc-d995-4943577d7a46"
      },
      "outputs": [
        {
          "output_type": "stream",
          "name": "stdout",
          "text": [
            "Approximate value of the integral using Trapezoidal Rule: 154.0\n"
          ]
        }
      ],
      "source": [
        "# Function to integrate\n",
        "def f(x):\n",
        "    return 3 * x**2 + 2 * x + 1\n",
        "\n",
        "# Trapezoidal Rule\n",
        "a, b = 1, 5  # Integration limits\n",
        "n = 4  # Number of intervals\n",
        "x = np.linspace(a, b, n+1)\n",
        "y = f(x)\n",
        "\n",
        "h = (b - a) / n\n",
        "I = h * (y[0] + 2 * sum(y[1:-1]) + y[-1]) / 2\n",
        "\n",
        "print(f\"Approximate value of the integral using Trapezoidal Rule: {I}\")\n"
      ]
    },
    {
      "cell_type": "markdown",
      "source": [
        "1. Overview: Approximates the area under a curve by dividing it into trapezoids.\n",
        "2. Key Idea: Computes the integral as the sum of the areas of these trapezoids, providing a simple and effective method for smooth functions."
      ],
      "metadata": {
        "id": "0rLEwV5JGHSS"
      }
    },
    {
      "cell_type": "markdown",
      "source": [
        "3. Simpson’s 1/3 Rule\n",
        "\n",
        "Example 3: Using Simpson’s 1/3 Rule\n",
        "\n",
        "Problem: Evaluate\n",
        "\n",
        "![Screenshot 2025-01-05 at 16-53-03 Сomputational Mathematics.png](data:image/png;base64,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)\n",
        "\n",
        "using Simpson’s 1/3 Rule with 6 intervals."
      ],
      "metadata": {
        "id": "G3aTGSvNGHeV"
      }
    },
    {
      "cell_type": "code",
      "source": [
        "# Function to integrate\n",
        "def f(x):\n",
        "    return x**3 + 2 * x**2 + 1\n",
        "\n",
        "# Simpson's 1/3 Rule\n",
        "a, b = 0, 3\n",
        "n = 6  # Must be even\n",
        "x = np.linspace(a, b, n+1)\n",
        "y = f(x)\n",
        "\n",
        "h = (b - a) / n\n",
        "I = h / 3 * (y[0] + 4 * sum(y[1:-1:2]) + 2 * sum(y[2:-2:2]) + y[-1])\n",
        "\n",
        "print(f\"Approximate value of the integral using Simpson's 1/3 Rule: {I}\")\n"
      ],
      "metadata": {
        "colab": {
          "base_uri": "https://localhost:8080/"
        },
        "id": "34kB_APMGZ4J",
        "outputId": "d34ba92f-8b05-45d3-9728-d060e8019cc4"
      },
      "execution_count": 3,
      "outputs": [
        {
          "output_type": "stream",
          "name": "stdout",
          "text": [
            "Approximate value of the integral using Simpson's 1/3 Rule: 41.25\n"
          ]
        }
      ]
    },
    {
      "cell_type": "markdown",
      "source": [
        "1. Overview: Fits parabolic arcs to approximate the integral over each segment.\n",
        "2. Key Idea: This rule is more accurate than the Trapezoidal Rule, especially for functions that can be approximated well by quadratics."
      ],
      "metadata": {
        "id": "TGYXn9IrGqdL"
      }
    },
    {
      "cell_type": "markdown",
      "source": [
        "4. Simpson’s 3/8 Rule\n",
        "\n",
        "Example 4: Using Simpson’s 3/8 Rule\n",
        "\n",
        "Problem: Evaluate\n",
        "\n",
        "![Screenshot 2025-01-05 at 16-56-22 Сomputational Mathematics.png](data:image/png;base64,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)\n",
        "\n",
        "using Simpson’s 3/8 Rule with 6 intervals."
      ],
      "metadata": {
        "id": "WXwQRf65GzAK"
      }
    },
    {
      "cell_type": "code",
      "source": [
        "# Function to integrate\n",
        "def f(x):\n",
        "    return 2 * x**3 + 3 * x**2 + x\n",
        "\n",
        "# Simpson's 3/8 Rule\n",
        "a, b = 1, 4\n",
        "n = 6  # Must be a multiple of 3\n",
        "x = np.linspace(a, b, n+1)\n",
        "y = f(x)\n",
        "\n",
        "h = (b - a) / n\n",
        "I = 3 * h / 8 * (y[0] + 3 * sum(y[1:-1:3]) + 2 * sum(y[3:-3:3]) + y[-1])\n",
        "\n",
        "print(f\"Approximate value of the integral using Simpson's 3/8 Rule: {I}\")\n"
      ],
      "metadata": {
        "colab": {
          "base_uri": "https://localhost:8080/"
        },
        "id": "lAMAHLNNG_ny",
        "outputId": "7f968795-cb31-42c4-961e-56087a725e01"
      },
      "execution_count": 4,
      "outputs": [
        {
          "output_type": "stream",
          "name": "stdout",
          "text": [
            "Approximate value of the integral using Simpson's 3/8 Rule: 110.25\n"
          ]
        }
      ]
    },
    {
      "cell_type": "markdown",
      "source": [
        "1. Overview: Uses cubic polynomials to approximate the integral over intervals that are multiples of three.\n",
        "2. Key Idea: Provides a higher degree of accuracy compared to Simpson’s 1/3 Rule for certain types of functions."
      ],
      "metadata": {
        "id": "9P-cZiLWGvLs"
      }
    },
    {
      "cell_type": "markdown",
      "source": [
        "5. Boole’s Rule\n",
        "\n",
        "Example 5: Using Boole’s Rule\n",
        "\n",
        "Problem: Evaluate\n",
        "\n",
        "![Screenshot 2025-01-05 at 16-57-06 Сomputational Mathematics.png](data:image/png;base64,iVBORw0KGgoAAAANSUhEUgAAAO0AAABJCAYAAADRwKF3AAAMnUlEQVR4Xu1dWchN3xtev2sy3YgilAt9iCgXIkPIUAgl8/AlyZghGUKGJJIhSWYlJZkVMkSUIhK5UIgiN0K5/v9/z/r1nNa3nbPPPnu9a397f+fd9V049l57vc96n7Xeaa39z//+vYxeioAiUBgE/lHSFmastKOKgEVASauKoAgUDIFckfbevXsWvpEjRxYMRu2uIpAdArkh7Y8fP0xDQ4NpbGw027dvzw4BfZMiUDAEckPaSZMmmfv375sVK1YoaQumRNrdbBHIBWkvXbpkXr16ZQ4cOKCkzXb89W0FRKDZSQuzeOrUqXaVbdOmjZK2gEqkXc4WgWYn7fLly83cuXPNgAEDlLTZjr2+raAIBCctTN9r166Zrl27mlWrVpkOHTqUoEK0+OHDhyUfVlfagmqRdjtTBIKSFqvoxYsXzeHDh63PeuvWLfPixQsrIMziBQsWmCtXrpQEVtJmOvb6soIiEIy0WGHnz59vfVSssIMGDTLfv383p06dMlOmTDH79u0zjx8/Nn369ClBh0DUwIEDzeDBgzWCXFCF0m6HRyAYaXv27GlJihX248ePZvLkyVaa/fv3m4ULF5oPHz7Y33nhvm3bttn75syZowUW4cde31BQBIKQFr4qyDdixIiS+YuVFdfq1avLQsVnNE9bUE3SbmeGQBDSIhp8+fJls2XLlookdSWE7/vkyRPz/v1706pVK9OrVy+bAtJLEVAE/kYgCGk7depk/vz5Yx48eGBTOXopAoqAHALipKWZixXz27dvcj3VlhQBRcAiIE7azZs323JERIHVxFUtUwTkERAnLcxh+KYaUJIfLG1RERBfaVEw0a1bN4ss87EKsyKgCMgiILrSsqACXUTetUePHrK9zaC1EydOmOHDhxey777w8BCC/v37Nyk39W23OZ+nTN27d28xYypKWqRuTp8+bdM2RQxCMYiGdFU9nZ6B0tK1a9ea8ePHm3bt2plNmzaZNWvWJErXNSch497N3WOorvv165ctpx09erQ5c+ZMXrucuF+ipEUxxfPnzwsZhMIgs9Sy3kiLAwh+//5dChxy8i1yyg61AkOHDrXVd7hgQaGctiXEWkRJi4J/XEUEBoratm1bG/muR9I+e/bMFrjApWEGoMg4sFbAddOgnyiv5aaVxEtbzm4UIy1NyyyCUFgVR40aZTZs2GA3H/he6PvVq1fNxIkTbfllkZU1LRbAlNsmkQH4+vWrefv2bWF9W5TNvn79uok5DNJ27NjRZjd4YYL6/PlzocxmMdJydgYYIc0qEnbGjBliPhfMw5MnT5qXL1/WNWkhP/Y3X7hwwf61pGq2uNp2mNK4JPxd6Cc2xfCCP33w4MG0c2nZ58RIS38Wb4F/FOqCGfvmzRuxwg1MNsOGDbOBp7wGohCV37VrV2mFQOHKzJkzS/6aBNZUNigZ8N24cWOLCsZBPyHb3bt3/7IeGM9YvHix90LAoN67d+9sKe+8efPyS1r6ECF9BmlSAWDMrpwJpduXIBMCKEeOHLGuACK7nz59stFdKARMeYnVIdrPluDTujJBHhzAUI6wvA84A1f69b5jx00zIeoVRFZaKD9ym7jc7Xi+gkef52wpFUiAWYxjcBCAwgXfBv4syOBGHtPIwRnXp5QTe4779ev3V87bxVsi6If22rdvX8pjlttamQYDPIPJvDnTfyDjo0ePSpMbZK1k9qOvUmkhdz+5dL2CCGkZTscgSShROQWhAnMTfVolcp/DAP78+bP009mzZ0tbCmEy+/h0UPydO3d6mfFc8ZD3jq4APCc6GlipFRdOAK6FRNJK1I8j+BPSXYqTl+eTudYIcHOPOHKfx+p4584d7wAcddV3bCrJJkJamgJ4SajIKxU4ZKWVpFkoSdpyuLqBPx9SUMHcyZZtS0yQzUVaTEbTp0+3f7zg0+KvkkvBij5fubmIhXJfREjLTQIAJxSpYBrDua9makEJ4UfgQh00kusINOA3rKowN8ulidD+ly9f7BE5mCHHjh3rFUCQIC0Pv4MJH41AsgACckZJ68oLPxhndSGdA2WCT4zf3BNEkB65efOmrYjCtXfvXjNt2jQv+UkUKdLWKhNjLNHVKs4SZO18rWTjYft4F7DGsUlYvMqRP61+unKIkJZFFSHLF/GOauYao6xLliyxirl06VLroyAaOm7cOPsbAA0RHIgqhwRp40w/TpTRGAKUAoSDvDDx161bZ5vp3bu3XWVmz55tcYmSkmd2YWJD7bGUHyZB2rQy1eoq4P4kesZ2sZovWrTI/hOBQkyImPBat25dOh/NxVFKP71J6xZVVCNVGhDxDE24uBkQ94wZM8agsodFAjTb+RyDA6H8ble+kKR1Dxq4ceNGE98bZN6zZ08pXUNTjf4VMQk1VtExliBtljIxdVnN5YC+oa65c+fOTaLStICi/qykfnqTFqYVVi9cociQ5NA3KGPfvn2bmH0cAPrZMJlwRRU97WQS91wo0rK4BFU9UfMLBL1+/XqTQAv9U44NA1i+fltSzHxJm7VMSUnL+6JWWyV/VlI/vUnrBqFCmZ1JSAtTBduv3C8Y0GyvNmsmVcDofa4vE/0/pI+ePn3aJBASvSf6xYUk/WCEc8eOHX8VV2A2x+WaZNGJK8k7arkHuFeKxqIdflStUpuYROKi9FnLlIS0UevFlY18iE6KkvrpTdosglBJSBtVCsm0RSWF8yUtgha1+I5YNY8fP16TpRB64vIlLavRapkoQsqUhLS0Vsq5a0nzsz766U3aLIJQaUgbNQtrUQqJe6XNY1bsRE17yFnpI9w+iiGBAdrwNY+znoyTkJaR6ehqWkt+1kc/vUibRRAKg5Y0EAXflemNSmZhXHJdSlHRjiRpWcp47NixJqYkgxvctcK0CFYAd4tdNNYAhalmlkph4UvarGVKQlouVNGNMVF/FvEepBhR146xktJPL9JmEYSi8lQLxXP2wwHpIC7PqnL9WUkiVVNqqXexSGD37t02ZeVe2JGDSimWStJsYxqIrotb8MLieDfKXk0Wn//3JW3WMlXTM2BBXKOxkmiQD/fhxAxMoJL66UXaLIJQVJi44gqW4iHMfvv2bZuHhe+HonrkzhCc4qqU1ZYzCdJCrgkTJlg5Kl3uLhJGx/GVQhB81qxZ9lkGCFmsMWTIEO/dLEmJ7EvaLGVicUW1nTk0bd3AKwOEwBuTJC6WsUrrpxdp3e14oSqhqBzMf1V6D2Y5VDSx+B+kRQEBZsMuXbrYwgKpTfNJFFaCtG6pYqV3up9egeVz9OjRkrwwp1FJhXpafGoFGKDoopIPnESuWu/xJW2WMrGMMUkWhCQFrtA7lEtCBzHJorgCcrvujKR+epGWtn2owmhXQThbxeUXufvHTSHwNL6sD2qTIG2tBKH/j68RuvJyY0RznLLoS9osZSIRq5XKclxYRebiitUahwmUw1pKP1OTlsEhCBByO56ruNJb89KQIukzGCCsaHE5zKRtFfk+pEDc413yLAtM8cbGxkwtkTR4pCate8Zx0q/jpemg+0weN6n7yqTP5wMBptSKcC5WatK6/lao7XjlhhMmDHwIn83l+VAT7UVeEJA8biYLmVKTluFtdDJUmWA5AEIc7JYF0PqO/CIgebBbFlKmJi1zVVntFnHBkD5CNQug9R35RKCujlAt8sHk+VQf7ZUikAyBVCutW76YpT+bTCS9SxFo2QikIq17kBsrjlo2TCqdIpAfBFKRltVJIc84zg9E2hNFIF8IpCItyxfjajRZhdOSvguar6HT3tQrAqlIyyBUpRpNhNBR57ps2TJz6NAhWw8c4iT8eh00lbu+EaiZtO7p9uX8Wfi72Ebmlq7BjF6/fr3ot2fqe9hU+npGoGbScg9tpfwsTGdcbsUSfsPqXO91uPWsaCq7HAI1k5aVUJXqjUHO6EkJCFxhM3DS3RNy4mlLikDLQ6Bm0pb7wrYLSznSsk45y3LHljdUKpEi8B8CsaTlSXs8T4j+bFzpopJWVUsRCItALGl5HCT3yzI/G7ezX0kbdsC0dUUgEWmRj926datpaGiwx5bEbYsDaaP5W54lpeaxKpwi4I9ALGkRKT5//rz9Ngy+3Yqzhqp9KbtS9DgaUfbvuragCNQnAlUDUTih4ty5c/aL6StXrqx6Ir7maetTkVTq7BCoSto0XdGKqDSo6TOKQDIEgpAWr0akGRVTODQ87gNLybqpdykCigARCEZahVgRUATCIKCkDYOrtqoIBENASRsMWm1YEQiDgJI2DK7aqiIQDAElbTBotWFFIAwCStowuGqrikAwBJS0waDVhhWBMAgoacPgqq0qAsEQ+D+eAgK8ohcoDAAAAABJRU5ErkJggg==)\n",
        "\n",
        "using Boole’s Rule with 8 intervals."
      ],
      "metadata": {
        "id": "Pht5RevhHEWC"
      }
    },
    {
      "cell_type": "code",
      "source": [
        "# Function to integrate\n",
        "def f(x):\n",
        "    return x**4 + 2 * x**3 + x**2\n",
        "\n",
        "# Boole's Rule\n",
        "a, b = 0, 4\n",
        "n = 8  # Must be a multiple of 4\n",
        "x = np.linspace(a, b, n+1)\n",
        "y = f(x)\n",
        "\n",
        "h = (b - a) / n\n",
        "I = 7 * h / 45 * (7 * (y[0] + y[-1]) + 32 * sum(y[1:-1:4]) + 12 * sum(y[2:-2:4]) + 14 * sum(y[3:-3:4]))\n",
        "\n",
        "print(f\"Approximate value of the integral using Boole's Rule: {I}\")\n"
      ],
      "metadata": {
        "colab": {
          "base_uri": "https://localhost:8080/"
        },
        "id": "iPntwd_rHKIy",
        "outputId": "666c45c4-7c07-454c-8bde-f0fe51062343"
      },
      "execution_count": 5,
      "outputs": [
        {
          "output_type": "stream",
          "name": "stdout",
          "text": [
            "Approximate value of the integral using Boole's Rule: 563.1791666666667\n"
          ]
        }
      ]
    },
    {
      "cell_type": "markdown",
      "source": [
        "1. Overview: Extends Simpson’s rules by fitting fourth-degree polynomials over intervals that are multiples of four.\n",
        "2. Key Idea: Offers greater accuracy for smoother functions over larger intervals compared to lower-order methods."
      ],
      "metadata": {
        "id": "aPwex2HDHQNX"
      }
    },
    {
      "cell_type": "markdown",
      "source": [
        "6. Weddle’s Rule\n",
        "\n",
        "Example 6: Using Weddle’s Rule\n",
        "\n",
        "Problem: Evaluate\n",
        "\n",
        "![Screenshot 2025-01-05 at 16-58-56 Сomputational Mathematics.png](data:image/png;base64,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)\n",
        "\n",
        "using Weddle’s Rule with 6 intervals."
      ],
      "metadata": {
        "id": "xyoWXVlVHZVR"
      }
    },
    {
      "cell_type": "code",
      "source": [
        "# Function to integrate\n",
        "def f(x):\n",
        "    return x**3 + 2 * x**2 + 4 * x\n",
        "\n",
        "# Weddle's Rule\n",
        "a, b = 0, 6\n",
        "n = 6  # Must be a multiple of 6\n",
        "x = np.linspace(a, b, n+1)\n",
        "y = f(x)\n",
        "\n",
        "h = (b - a) / n\n",
        "I = 3 * h / 10 * (y[0] + 5 * y[1] + y[2] + 6 * y[3] + y[4] + 5 * y[5] + y[6])\n",
        "\n",
        "print(f\"Approximate value of the integral using Weddle's Rule: {I}\")\n"
      ],
      "metadata": {
        "colab": {
          "base_uri": "https://localhost:8080/"
        },
        "id": "Tx_WQVblHZnx",
        "outputId": "f7e9a253-e9b8-421d-83c0-5d1919b447bc"
      },
      "execution_count": 6,
      "outputs": [
        {
          "output_type": "stream",
          "name": "stdout",
          "text": [
            "Approximate value of the integral using Weddle's Rule: 540.0\n"
          ]
        }
      ]
    },
    {
      "cell_type": "markdown",
      "source": [
        "1. Overview: A specialized quadrature rule designed for six equally spaced intervals.\n",
        "2. Key Idea: Uses weighted coefficients to provide high accuracy, especially for oscillatory functions."
      ],
      "metadata": {
        "id": "dk7mJ9GJHV4b"
      }
    },
    {
      "cell_type": "markdown",
      "source": [
        "7. Romberg’s Integration\n",
        "\n",
        "Example 7: Using Romberg’s Integration\n",
        "\n",
        "Problem: Evaluate\n",
        "\n",
        "![Screenshot 2025-01-05 at 17-02-37 Сomputational Mathematics.png](data:image/png;base64,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)\n",
        "\n",
        "using Romberg’s Integration."
      ],
      "metadata": {
        "id": "GNpJTpwjHnHR"
      }
    },
    {
      "cell_type": "code",
      "source": [
        "import numpy as np\n",
        "\n",
        "# Function to integrate\n",
        "def f(x):\n",
        "    return np.exp(x)\n",
        "\n",
        "# Romberg's Integration\n",
        "def romberg_integration(a, b, n):\n",
        "    R = np.zeros((n, n))\n",
        "    h = (b - a)\n",
        "    R[0, 0] = (h / 2) * (f(a) + f(b))  # First trapezoidal rule\n",
        "\n",
        "    for i in range(1, n):\n",
        "        h /= 2\n",
        "        summation = sum(f(a + (k * h)) for k in range(1, 2**i, 2))\n",
        "        R[i, 0] = 0.5 * R[i - 1, 0] + h * summation\n",
        "\n",
        "        # Richardson extrapolation\n",
        "        for j in range(1, i + 1):\n",
        "            R[i, j] = R[i, j - 1] + (R[i, j - 1] - R[i - 1, j - 1]) / (4**j - 1)\n",
        "\n",
        "    return R\n",
        "\n",
        "# Integration limits and iterations\n",
        "a, b = 0, 2\n",
        "n = 4  # Number of rows in Romberg table\n",
        "\n",
        "R = romberg_integration(a, b, n)\n",
        "print(\"Romberg Table:\")\n",
        "print(R)\n",
        "print(f\"Approximate value of the integral: {R[-1, -1]}\")\n"
      ],
      "metadata": {
        "colab": {
          "base_uri": "https://localhost:8080/"
        },
        "id": "KJyAyHWMIbtg",
        "outputId": "23c349e5-36be-49a5-8995-79b8e9185c5e"
      },
      "execution_count": 7,
      "outputs": [
        {
          "output_type": "stream",
          "name": "stdout",
          "text": [
            "Romberg Table:\n",
            "[[8.3890561  0.         0.         0.        ]\n",
            " [6.91280988 6.4207278  0.         0.        ]\n",
            " [6.52161011 6.39121019 6.38924235 0.        ]\n",
            " [6.42229782 6.38919373 6.38905929 6.38905639]]\n",
            "Approximate value of the integral: 6.389056389097693\n"
          ]
        }
      ]
    },
    {
      "cell_type": "markdown",
      "source": [
        "1. Romberg’s Method: This technique uses successive refinements of the trapezoidal rule combined with Richardson extrapolation for higher accuracy.\n",
        "2. Romberg Table: Displays results at different levels of accuracy. The value in the bottom-right corner is the most accurate approximation."
      ],
      "metadata": {
        "id": "LWltVmIQIfjD"
      }
    },
    {
      "cell_type": "markdown",
      "source": [
        "8. Errors in Quadrature Formulae\n",
        "\n",
        "Example 8: Error Estimation for Trapezoidal Rule\n",
        "\n",
        "Problem: For the integral\n",
        "\n",
        "![Screenshot 2025-01-05 at 17-05-20 Сomputational Mathematics.png](data:image/png;base64,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)\n",
        "\n",
        "using the Trapezoidal Rule with 4 intervals, estimate the error."
      ],
      "metadata": {
        "id": "QSYkiMXeIkQi"
      }
    },
    {
      "cell_type": "code",
      "source": [
        "# Error estimation for Trapezoidal Rule\n",
        "from scipy.integrate import quad\n",
        "from sympy import symbols, diff, sin\n",
        "\n",
        "# Define function and its second derivative\n",
        "x = symbols('x')\n",
        "f = sin(x)\n",
        "f_double_prime = diff(f, x, 2)\n",
        "\n",
        "# Maximum value of |f''(x)| on [0, 1]\n",
        "f_double_prime_max = max(abs(f_double_prime.evalf(subs={x: xi})) for xi in np.linspace(0, 1, 100))\n",
        "\n",
        "# Trapezoidal Rule Error\n",
        "a, b = 0, 1\n",
        "n = 4\n",
        "h = (b - a) / n\n",
        "error = -((b - a) * h**2 / 12) * f_double_prime_max\n",
        "print(f\"Estimated error for the Trapezoidal Rule: {abs(error)}\")\n"
      ],
      "metadata": {
        "colab": {
          "base_uri": "https://localhost:8080/"
        },
        "id": "curMNzw6JC4Z",
        "outputId": "5edbf377-0f8b-4f98-8706-770412e5c599"
      },
      "execution_count": 8,
      "outputs": [
        {
          "output_type": "stream",
          "name": "stdout",
          "text": [
            "Estimated error for the Trapezoidal Rule: 0.00438266137920779\n"
          ]
        }
      ]
    },
    {
      "cell_type": "markdown",
      "source": [
        "1. Error Formula: The error for the Trapezoidal Rule is proportional to h2h2 and depends on the second derivative of the function.\n",
        "2. Steps: Compute the second derivative, find its maximum value on the interval, and substitute into the error formula."
      ],
      "metadata": {
        "id": "oa0NfDhuJLjo"
      }
    },
    {
      "cell_type": "markdown",
      "source": [
        "Summary for Week 9\n",
        "\n",
        "    Newton-Cotes Quadrature:\n",
        "        General framework for approximating integrals.\n",
        "        Includes Trapezoidal and Simpson’s rules as special cases.\n",
        "\n",
        "    Trapezoidal Rule:\n",
        "        Approximates the area under a curve using trapezoids.\n",
        "        Simple and effective for smooth functions.\n",
        "\n",
        "    Simpson’s Rules (1/3 and 3/8):\n",
        "        Use parabolic arcs to approximate the integral for higher accuracy than the Trapezoidal Rule.\n",
        "\n",
        "    Boole’s and Weddle’s Rules:\n",
        "        Higher-order methods for accurate integration over larger intervals.\n",
        "\n",
        "    Romberg’s Integration:\n",
        "        Combines trapezoidal approximations with Richardson extrapolation for very high accuracy.\n",
        "\n",
        "    Error Analysis:\n",
        "        Important for understanding the limitations of numerical integration methods and improving accuracy."
      ],
      "metadata": {
        "id": "X2qErApjJYUt"
      }
    }
  ]
}