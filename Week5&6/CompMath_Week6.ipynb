{
  "nbformat": 4,
  "nbformat_minor": 0,
  "metadata": {
    "colab": {
      "provenance": []
    },
    "kernelspec": {
      "name": "python3",
      "display_name": "Python 3"
    },
    "language_info": {
      "name": "python"
    }
  },
  "cells": [
    {
      "cell_type": "markdown",
      "source": [
        "# **Finite Differences.** Difference Operators: Forward and Backward difference operators and table."
      ],
      "metadata": {
        "id": "ChEHzawv_N8j"
      }
    },
    {
      "cell_type": "markdown",
      "source": [
        "1. Forward Difference Table\n",
        "\n",
        "Example 1: Create a Forward Difference Table\n",
        "\n",
        "Task: Generate a forward difference table for the data:\n",
        "\n",
        "x=[1,2,3,4,5]\n",
        "\n",
        "y=[1,4,9,16,25]"
      ],
      "metadata": {
        "id": "asnTooYD_TkC"
      }
    },
    {
      "cell_type": "code",
      "execution_count": null,
      "metadata": {
        "colab": {
          "base_uri": "https://localhost:8080/"
        },
        "id": "CZYmPK02_KkP",
        "outputId": "371cd7f3-f41c-4487-c2ed-e39c9e943429"
      },
      "outputs": [
        {
          "output_type": "stream",
          "name": "stdout",
          "text": [
            "Forward Difference Table:\n",
            "   Δ^0y  Δ^1y  Δ^2y  Δ^3y  Δ^4y\n",
            "0   1.0   3.0   2.0   0.0   0.0\n",
            "1   4.0   5.0   2.0   0.0   0.0\n",
            "2   9.0   7.0   2.0   0.0   0.0\n",
            "3  16.0   9.0   0.0   0.0   0.0\n",
            "4  25.0   0.0   0.0   0.0   0.0\n"
          ]
        }
      ],
      "source": [
        "import numpy as np\n",
        "import pandas as pd\n",
        "\n",
        "# Data points\n",
        "x = np.array([1, 2, 3, 4, 5])\n",
        "y = np.array([1, 4, 9, 16, 25])\n",
        "\n",
        "# Number of data points\n",
        "n = len(y)\n",
        "\n",
        "# Initialize the forward difference table\n",
        "forward_diff = np.zeros((n, n))\n",
        "forward_diff[:, 0] = y  # First column is y values\n",
        "\n",
        "# Calculate forward differences\n",
        "for j in range(1, n):\n",
        "    for i in range(n - j):\n",
        "        forward_diff[i, j] = forward_diff[i + 1, j - 1] - forward_diff[i, j - 1]\n",
        "\n",
        "# Convert to a readable format\n",
        "df = pd.DataFrame(forward_diff, columns=[f\"Δ^{i}y\" for i in range(n)])\n",
        "print(\"Forward Difference Table:\")\n",
        "print(df)\n"
      ]
    },
    {
      "cell_type": "markdown",
      "source": [
        "What is a Forward Difference Table?\n",
        "\n",
        "- A forward difference table is a tabular method to compute differences between consecutive function values. These differences are useful for interpolation and numerical analysis.\n",
        "\n",
        "How it Works:\n",
        "- The first column corresponds to the original y-values.\n",
        "  Each subsequent column is derived by subtracting consecutive values in the previous column.\n",
        "\n",
        "Key Concepts:\n",
        "- The n-th differences will be zero for a polynomial of degree n. This property allows us to approximate functions using simpler polynomials."
      ],
      "metadata": {
        "id": "avGXNl3N_opJ"
      }
    },
    {
      "cell_type": "markdown",
      "source": [
        "Example 2: Compute Specific Forward Differences\n",
        "\n",
        "Task: For the same data, compute the third forward difference at x=1."
      ],
      "metadata": {
        "id": "mxzhr1tiAF6q"
      }
    },
    {
      "cell_type": "code",
      "source": [
        "# Extract the third forward difference at x = 1\n",
        "third_diff_at_x1 = forward_diff[0, 3]  # Third column, first row\n",
        "print(f\"The third forward difference at x = 1 is: {third_diff_at_x1}\")\n"
      ],
      "metadata": {
        "colab": {
          "base_uri": "https://localhost:8080/"
        },
        "id": "o459LEXKAIGD",
        "outputId": "6a37ca74-17f8-4745-dba1-79216e9a3355"
      },
      "execution_count": null,
      "outputs": [
        {
          "output_type": "stream",
          "name": "stdout",
          "text": [
            "The third forward difference at x = 1 is: 0.0\n"
          ]
        }
      ]
    },
    {
      "cell_type": "markdown",
      "source": [
        "1. To find specific differences, locate the corresponding row and column in the table.\n",
        "2. This provides a numerical approximation of higher-order changes in the function."
      ],
      "metadata": {
        "id": "koHU8NRNAOPH"
      }
    },
    {
      "cell_type": "markdown",
      "source": [
        "2. Backward Difference Table\n",
        "\n",
        "Example 3: Create a Backward Difference Table\n",
        "\n",
        "Task: Generate a backward difference table for the data:\n",
        "\n",
        "x=[1,2,3,4,5]\n",
        "\n",
        "y=[1,4,9,16,25]"
      ],
      "metadata": {
        "id": "6v66OxN9AU34"
      }
    },
    {
      "cell_type": "code",
      "source": [
        "# Initialize the backward difference table\n",
        "backward_diff = np.zeros((n, n))\n",
        "backward_diff[:, 0] = y  # First column is y values\n",
        "\n",
        "# Calculate backward differences\n",
        "for j in range(1, n):\n",
        "    for i in range(j, n):\n",
        "        backward_diff[i, j] = backward_diff[i, j - 1] - backward_diff[i - 1, j - 1]\n",
        "\n",
        "# Convert to a readable format\n",
        "df_backward = pd.DataFrame(backward_diff, columns=[f\"∇^{i}y\" for i in range(n)])\n",
        "print(\"Backward Difference Table:\")\n",
        "print(df_backward)\n"
      ],
      "metadata": {
        "colab": {
          "base_uri": "https://localhost:8080/"
        },
        "id": "Fe9uBoVoAbRs",
        "outputId": "3e9a5b00-40d4-4d70-cb2c-52f4e952650a"
      },
      "execution_count": null,
      "outputs": [
        {
          "output_type": "stream",
          "name": "stdout",
          "text": [
            "Backward Difference Table:\n",
            "   ∇^0y  ∇^1y  ∇^2y  ∇^3y  ∇^4y\n",
            "0   1.0   0.0   0.0   0.0   0.0\n",
            "1   4.0   3.0   0.0   0.0   0.0\n",
            "2   9.0   5.0   2.0   0.0   0.0\n",
            "3  16.0   7.0   2.0   0.0   0.0\n",
            "4  25.0   9.0   2.0   0.0   0.0\n"
          ]
        }
      ]
    },
    {
      "cell_type": "markdown",
      "source": [
        "What is a Backward Difference Table?\n",
        "- A backward difference table is similar to a forward difference table but computes differences starting from the last data point instead of the first.\n",
        "\n",
        "Key Differences:\n",
        "\n",
        "- Useful when interpolating backward or extrapolating to earlier points.\n",
        "    Differences are calculated by subtracting the value above from the current value."
      ],
      "metadata": {
        "id": "6YrJX1lGAeP7"
      }
    },
    {
      "cell_type": "markdown",
      "source": [
        "3. Applications\n",
        "\n",
        "Example 4: Polynomial Approximation\n",
        "\n",
        "Task: Verify that the second differences of y=x2 are constant."
      ],
      "metadata": {
        "id": "n6RBl6bMAj0i"
      }
    },
    {
      "cell_type": "code",
      "source": [
        "# Second differences\n",
        "second_diff = forward_diff[0, 2]  # Second column, first row\n",
        "print(f\"The second difference is constant: {second_diff}\")\n"
      ],
      "metadata": {
        "colab": {
          "base_uri": "https://localhost:8080/"
        },
        "id": "_k7JmjKrApBW",
        "outputId": "76591bef-6bd1-4ebb-8968-69267243d89f"
      },
      "execution_count": null,
      "outputs": [
        {
          "output_type": "stream",
          "name": "stdout",
          "text": [
            "The second difference is constant: 2.0\n"
          ]
        }
      ]
    },
    {
      "cell_type": "markdown",
      "source": [
        "Introduction to Finite Differences:\n",
        "\n",
        "    Differences help analyze discrete data and approximate functions.\n",
        "    Forward and backward differences are tools for interpolation, error analysis, and numerical differentiation.\n",
        "\n",
        "Difference Tables:\n",
        "\n",
        "    Organize computations systematically.\n",
        "    Higher-order differences reveal polynomial degree and trends.\n",
        "\n",
        "Applications:\n",
        "\n",
        "    Verify polynomial behavior.\n",
        "    Predict values outside the given data range."
      ],
      "metadata": {
        "id": "3rSbt13YA7IG"
      }
    }
  ]
}