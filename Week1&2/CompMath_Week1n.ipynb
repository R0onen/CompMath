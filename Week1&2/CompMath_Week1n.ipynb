{
 "cells": [
  {
   "cell_type": "markdown",
   "metadata": {
    "id": "eaMiMoVFHZY1"
   },
   "source": [
    "# **Approximations and Errors in Computation**.  Introduction, Significant digits, Rounding error, Truncation error, Absolute and relative error, Error propagation."
   ]
  },
  {
   "cell_type": "markdown",
   "metadata": {
    "id": "kEN0iWra178-"
   },
   "source": [
    "1. Significant digits and rounding\n",
    "\n",
    "Example 1: Determining the number of significant digits\n",
    "\n",
    "Task: Write a program that determines the number of significant digits in a number."
   ]
  },
  {
   "cell_type": "code",
   "execution_count": 8,
   "metadata": {
    "colab": {
     "base_uri": "https://localhost:8080/"
    },
    "id": "c5onWz4P1nAo",
    "outputId": "15a73e88-ca56-467b-c471-d2420d732bb3"
   },
   "outputs": [
    {
     "name": "stdout",
     "output_type": "stream",
     "text": [
      "The number 0.00386 contains 5 significant digits.\n",
      "The number 4500 contains 2 significant digits.\n",
      "The number 3.589 contains 4 significant digits.\n"
     ]
    }
   ],
   "source": [
    "def count_significant_digits(number):\n",
    "    # Convert the number to a string for ease of processing\n",
    "    num_str = str(number).lstrip('0').rstrip('0').replace('.', '')\n",
    "    # We exclude zeros if they are not significant.\n",
    "    return len(num_str)\n",
    "\n",
    "# Example of use\n",
    "numbers = [0.00386, 4500, 3.589]\n",
    "for num in numbers:\n",
    "    print(f\"The number {num} contains {count_significant_digits(num)} significant digits.\")"
   ]
  },
  {
   "cell_type": "markdown",
   "metadata": {
    "id": "BqEHMOAN2Ja9"
   },
   "source": [
    "1. We convert the number to a string by removing leading zeros (lstrip('0')).\n",
    "2. We remove trailing zeros (rstrip('0')), if they are to the right of the dot.\n",
    "3. We remove the dot itself, since it is not considered a digit.\n",
    "4. We count the remaining characters, which are significant digits."
   ]
  },
  {
   "cell_type": "markdown",
   "metadata": {
    "id": "8-E2DdZ92Eq9"
   },
   "source": [
    "Example 2: Rounding a number\n",
    "\n",
    "Problem: Implement a program to round a number to a given number of significant digits."
   ]
  },
  {
   "cell_type": "code",
   "execution_count": 23,
   "metadata": {
    "colab": {
     "base_uri": "https://localhost:8080/"
    },
    "id": "6WsPnCvL2hzR",
    "outputId": "4cc7558d-877b-42be-b13e-69cc7ed51027"
   },
   "outputs": [
    {
     "name": "stdout",
     "output_type": "stream",
     "text": [
      "The number 123.4546789 has been rounded to 4 significant digits: 123.5\n"
     ]
    }
   ],
   "source": [
    "def round_to_significant_figures(number, n):\n",
    "    # Round the number to n significant digits\n",
    "    if number == 0:\n",
    "        return 0\n",
    "    else:\n",
    "        scale = -int(f\"{number:e}\".split('e')[1]) + (n - 1)\n",
    "        return round(number, scale)\n",
    "\n",
    "# Example of use\n",
    "number = 123.4546789 \n",
    "significant_figures = 4\n",
    "rounded_number = round_to_significant_figures(number, significant_figures)\n",
    "print(f\"The number {number} has been rounded to {significant_figures} significant digits: {rounded_number}\")"
   ]
  },
  {
   "cell_type": "markdown",
   "metadata": {
    "id": "hzsHIizJdksG"
   },
   "source": [
    "You need to convert the number to exponential form, and get the number normalized so that the first significant digit is before the decimal point.\n",
    "And the part after e (the exponent) indicates how much the order of the number is shifted (that is, a power of 10). Like 123,4567 ~ 1,234567e+02\n",
    "\n",
    "\n",
    "\".split('e')\" splits the string into two parts: [\"1.234568\", \"+02\"].\n",
    "\n",
    "Scale indicates that the number should be rounded to 1 decimal place."
   ]
  },
  {
   "cell_type": "markdown",
   "metadata": {
    "id": "he6JOZtN2kcH"
   },
   "source": [
    "1. Check that the number is not 0, as this is a special case.\n",
    "2. Calculate the rounding scale based on the scientific notation of the number (f\"{number:e}\").\n",
    "3. Apply round() with the calculated scale."
   ]
  },
  {
   "cell_type": "markdown",
   "metadata": {
    "id": "n9nND6yp2yTV"
   },
   "source": [
    "2. Absolute and relative errors\n",
    "\n",
    "Example 1: Calculating absolute and relative errors\n",
    "\n",
    "Task: Write a program to calculate absolute and relative errors."
   ]
  },
  {
   "cell_type": "markdown",
   "metadata": {
    "id": "f-91q9FEYdoH"
   },
   "source": [
    "![Снимок экрана 2024-12-09 в 12.41.58.png](data:image/png;base64,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)\n",
    "\n",
    "X is the true value of a quantity and X' is its approximate value\n",
    "\n",
    "|X-X'|=absolute error"
   ]
  },
  {
   "cell_type": "code",
   "execution_count": 4,
   "metadata": {
    "id": "BCCNPz4x2xde"
   },
   "outputs": [
    {
     "name": "stdout",
     "output_type": "stream",
     "text": [
      "Absolute error: 0.0015899999999997583\n",
      "Relative error: 0.00051\n"
     ]
    }
   ],
   "source": [
    "def calculate_errors(true_value, approx_value):\n",
    "    absolute_error = abs(true_value - approx_value)  # Absolute error\n",
    "    relative_error = absolute_error / true_value if true_value != 0 else float('inf')  # Relative error\n",
    "    return absolute_error, relative_error\n",
    "\n",
    "# Example of use\n",
    "true_value = 3.14159  # True value\n",
    "approx_value = 3.14   # Approximate value\n",
    "absolute_error, relative_error = calculate_errors(true_value, approx_value)\n",
    "\n",
    "print(f\"Absolute error: {absolute_error}\")\n",
    "print(f\"Relative error: {relative_error:.5f}\")"
   ]
  },
  {
   "cell_type": "markdown",
   "metadata": {
    "id": "RabNRCTa4NZZ"
   },
   "source": [
    "1. Absolute error is calculated as the absolute difference between the true and approximate values.\n",
    "2. Relative error is defined as the ratio of the absolute error to the true value. If the true value is 0, the error becomes infinite."
   ]
  },
  {
   "cell_type": "markdown",
   "metadata": {
    "id": "PtYxwN0_4rA2"
   },
   "source": [
    "Example 2: Percentage Error\n",
    "\n",
    "Task: Add a percentage error calculation."
   ]
  },
  {
   "cell_type": "code",
   "execution_count": null,
   "metadata": {
    "id": "r12s1S5C4jWv"
   },
   "outputs": [],
   "source": [
    "def calculate_percentage_error(true_value, approx_value):\n",
    "    absolute_error = abs(true_value - approx_value)\n",
    "    percentage_error = (absolute_error / true_value) * 100 if true_value != 0 else float('inf')\n",
    "    return percentage_error\n",
    "\n",
    "# Example of use\n",
    "true_value = 100\n",
    "approx_value = 95\n",
    "percentage_error = calculate_percentage_error(true_value, approx_value)\n",
    "print(f\"Percentage error: {percentage_error:.2f}%\")"
   ]
  },
  {
   "cell_type": "markdown",
   "metadata": {
    "id": "bqJlEWyk40s-"
   },
   "source": [
    "1. Percentage error is the absolute error multiplied by 100 and divided by the true value.\n",
    "2. Uses a similar approach as for relative error."
   ]
  },
  {
   "cell_type": "markdown",
   "metadata": {
    "id": "xOa8NiIn40uw"
   },
   "source": [
    "3. Error propagation\n",
    "\n",
    "Example: Adding numbers with errors\n",
    "\n",
    "Task: Write a function that demonstrates error propagation during addition."
   ]
  },
  {
   "cell_type": "code",
   "execution_count": 24,
   "metadata": {
    "id": "6fFihXvq5HqG"
   },
   "outputs": [
    {
     "name": "stdout",
     "output_type": "stream",
     "text": [
      "Result of addition: 12.0 ± 0.8\n"
     ]
    }
   ],
   "source": [
    "def error_propagation_addition(a, b, error_a, error_b):\n",
    "    # Addition of values\n",
    "    result = a + b\n",
    "    # Error propagation\n",
    "    propagated_error = error_a + error_b\n",
    "    return result, propagated_error\n",
    "\n",
    "# Example of use\n",
    "a, b = 9.0, 3.0\n",
    "error_a, error_b = 0.6, 0.2\n",
    "result, propagated_error = error_propagation_addition(a, b, error_a, error_b)\n",
    "\n",
    "print(f\"Result of addition: {result} ± {propagated_error}\")"
   ]
  },
  {
   "cell_type": "markdown",
   "metadata": {
    "id": "Hi4DTgvw5VXb"
   },
   "source": [
    "1. When adding errors, we simply add the absolute errors of two numbers.\n",
    "2. The result is presented in the format: result ± error."
   ]
  },
  {
   "cell_type": "markdown",
   "metadata": {
    "id": "KibnyXVW5eL5"
   },
   "source": [
    "4. Truncation and Rounding\n",
    "\n",
    "Example 1: Truncation of a number\n",
    "\n",
    "Problem: Write a program to truncate a number to a specified number of decimal places."
   ]
  },
  {
   "cell_type": "code",
   "execution_count": 25,
   "metadata": {
    "id": "yuZl-R_y5dKy"
   },
   "outputs": [
    {
     "name": "stdout",
     "output_type": "stream",
     "text": [
      "The number 3.1415926535 truncated to 3 decimal places: 3.141\n"
     ]
    }
   ],
   "source": [
    "def truncate_number(number, decimal_places):\n",
    "    # Calculate the multiplier for truncation\n",
    "    multiplier = 10 ** decimal_places\n",
    "    truncated = int(number * multiplier) / multiplier\n",
    "    return truncated\n",
    "\n",
    "# Example of use\n",
    "number = 3.1415926535 \n",
    "decimal_places = 3\n",
    "truncated_number = truncate_number(number, decimal_places)\n",
    "print(f\"The number {number} truncated to {decimal_places} decimal places: {truncated_number}\")"
   ]
  },
  {
   "cell_type": "markdown",
   "metadata": {
    "id": "8wf6fR4X5dnQ"
   },
   "source": [
    "1. Truncation removes all numbers after the specified number of places without rounding.\n",
    "2. We multiply the number by 10 ** decimal_places to temporarily get rid of the fractional part.\n",
    "3. Then we use int() to truncate the fractional part and divide back."
   ]
  },
  {
   "cell_type": "markdown",
   "metadata": {
    "id": "rbdnELX96Ibb"
   },
   "source": [
    "Example 2: Difference between rounding and truncation\n",
    "\n",
    "Task: Write code that compares truncation and rounding of a number."
   ]
  },
  {
   "cell_type": "code",
   "execution_count": 26,
   "metadata": {
    "id": "l6ycIRIr6MY5"
   },
   "outputs": [
    {
     "name": "stdout",
     "output_type": "stream",
     "text": [
      "Truncated number: 3.141\n",
      "Rounded number: 3.142\n"
     ]
    }
   ],
   "source": [
    "def compare_rounding_and_truncation(number, decimal_places):\n",
    "    truncated = truncate_number(number, decimal_places)\n",
    "    rounded = round(number, decimal_places)\n",
    "    return truncated, rounded\n",
    "\n",
    "# Example of use\n",
    "number = 3.1415926535\n",
    "decimal_places = 3\n",
    "truncated, rounded = compare_rounding_and_truncation(number, decimal_places)\n",
    "print(f\"Truncated number: {truncated}\")\n",
    "print(f\"Rounded number: {rounded}\")"
   ]
  },
  {
   "cell_type": "markdown",
   "metadata": {
    "id": "ar0BkzWn6XwQ"
   },
   "source": [
    "1. Truncation always reduces the value of a number by removing extra characters.\n",
    "2. Rounding takes into account the next digit: if it is ≥ 5, then the last remaining digit is increased."
   ]
  },
  {
   "cell_type": "markdown",
   "metadata": {
    "id": "lXxX5zg16ejw"
   },
   "source": [
    "5. Propagation of errors in multiplication\n",
    "\n",
    "Example: Calculating the error of a product\n",
    "\n",
    "Problem: Calculate the absolute error of the product of two numbers, taking into account their errors."
   ]
  },
  {
   "cell_type": "code",
   "execution_count": 27,
   "metadata": {
    "id": "Wzee_FAQ7Xus"
   },
   "outputs": [
    {
     "name": "stdout",
     "output_type": "stream",
     "text": [
      "The result of multiplication: 20.0 ± 0.7\n"
     ]
    }
   ],
   "source": [
    "def error_propagation_multiplication(a, b, error_a, error_b):\n",
    "    # Calculating the result\n",
    "    result = a * b\n",
    "    # Error propagation\n",
    "    propagated_error = abs(b) * error_a + abs(a) * error_b #book formula\n",
    "    return result, propagated_error\n",
    "\n",
    "# Example of use\n",
    "a, b = 10.0, 2.0\n",
    "error_a, error_b = 0.1, 0.05\n",
    "result, propagated_error = error_propagation_multiplication(a, b, error_a, error_b)\n",
    "\n",
    "print(f\"The result of multiplication: {result} ± {propagated_error}\")"
   ]
  },
  {
   "cell_type": "markdown",
   "metadata": {
    "id": "ImvojroL7l__"
   },
   "source": [
    "1. For a product, errors are calculated as the sum of the absolute changes caused by the errors of each multiplier.\n",
    "2. This is important for calculations that require high accuracy, such as in engineering calculations."
   ]
  }
 ],
 "metadata": {
  "colab": {
   "provenance": []
  },
  "kernelspec": {
   "display_name": "Python 3 (ipykernel)",
   "language": "python",
   "name": "python3"
  },
  "language_info": {
   "codemirror_mode": {
    "name": "ipython",
    "version": 3
   },
   "file_extension": ".py",
   "mimetype": "text/x-python",
   "name": "python",
   "nbconvert_exporter": "python",
   "pygments_lexer": "ipython3",
   "version": "3.11.9"
  }
 },
 "nbformat": 4,
 "nbformat_minor": 4
}
