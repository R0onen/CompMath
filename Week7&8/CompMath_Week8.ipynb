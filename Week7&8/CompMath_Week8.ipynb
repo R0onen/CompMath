{
  "nbformat": 4,
  "nbformat_minor": 0,
  "metadata": {
    "colab": {
      "provenance": []
    },
    "kernelspec": {
      "name": "python3",
      "display_name": "Python 3"
    },
    "language_info": {
      "name": "python"
    }
  },
  "cells": [
    {
      "cell_type": "markdown",
      "source": [
        "# **Numerical Differentiation**. Derivatives using Newton’s forward/ backward difference formula, Derivatives using unequally spaced values of argument, Maxima and Minima of a Tabulated Function."
      ],
      "metadata": {
        "id": "3JQRqzDGayx_"
      }
    },
    {
      "cell_type": "markdown",
      "source": [
        "1. Derivatives Using Newton’s Forward Difference Formula\n",
        "\n",
        "Example 1: Estimate the First Derivative\n",
        "\n",
        "Problem: Given the data:\n",
        "\n",
        "x=[0,1,2,3,4]\n",
        "\n",
        "y=[1,2.7,5.8,10.4,16.5]\n",
        "\n",
        "Estimate dy/dx​ at x=0."
      ],
      "metadata": {
        "id": "fkr6H1B1bl7m"
      }
    },
    {
      "cell_type": "code",
      "execution_count": 1,
      "metadata": {
        "colab": {
          "base_uri": "https://localhost:8080/"
        },
        "id": "YrKeCluoawu9",
        "outputId": "fe266eea-1bb8-41e7-d025-bd112a526828"
      },
      "outputs": [
        {
          "output_type": "stream",
          "name": "stdout",
          "text": [
            "First derivative at x = 0: 1.7000000000000002\n"
          ]
        }
      ],
      "source": [
        "import numpy as np\n",
        "\n",
        "# Data points\n",
        "x = np.array([0, 1, 2, 3, 4])\n",
        "y = np.array([1, 2.7, 5.8, 10.4, 16.5])\n",
        "\n",
        "# Step size\n",
        "h = x[1] - x[0]\n",
        "\n",
        "# Create forward difference table\n",
        "n = len(y)\n",
        "forward_diff = np.zeros((n, n))\n",
        "forward_diff[:, 0] = y\n",
        "\n",
        "for j in range(1, n):\n",
        "    for i in range(n - j):\n",
        "        forward_diff[i, j] = forward_diff[i + 1, j - 1] - forward_diff[i, j - 1]\n",
        "\n",
        "# First derivative using Newton's forward formula\n",
        "dy_dx = forward_diff[0, 1] / h\n",
        "print(f\"First derivative at x = 0: {dy_dx}\")\n"
      ]
    },
    {
      "cell_type": "markdown",
      "source": [
        "1. Forward Difference Table: This table provides the differences between consecutive y-values.\n",
        "2. First Derivative Formula: The first derivative at the start point is approximated using the first forward difference divided by the step size h.\n",
        "3. Result: The derivative dy/dx​ at x=0."
      ],
      "metadata": {
        "id": "MZ-KkgtDb8As"
      }
    },
    {
      "cell_type": "markdown",
      "source": [
        "Example 2: Second Derivative\n",
        "\n",
        "Problem: Using the same data, estimate d^2y/dx^2​ at x=0."
      ],
      "metadata": {
        "id": "G8BLw8IxcGIY"
      }
    },
    {
      "cell_type": "code",
      "source": [
        "# Second derivative using Newton's forward formula\n",
        "d2y_dx2 = forward_diff[0, 2] / (h**2)\n",
        "print(f\"Second derivative at x = 0: {d2y_dx2}\")\n"
      ],
      "metadata": {
        "colab": {
          "base_uri": "https://localhost:8080/"
        },
        "id": "7hRcjTbucQRL",
        "outputId": "a6792f0d-a35d-4ca2-eca0-2af2d8507777"
      },
      "execution_count": 2,
      "outputs": [
        {
          "output_type": "stream",
          "name": "stdout",
          "text": [
            "Second derivative at x = 0: 1.3999999999999995\n"
          ]
        }
      ]
    },
    {
      "cell_type": "markdown",
      "source": [
        "1. Second Forward Difference: The second derivative is obtained using the second forward difference divided by h2.\n",
        "2. Result: The second derivative d^2y/dx^2​ at x=0."
      ],
      "metadata": {
        "id": "DEsdXBghc4qq"
      }
    },
    {
      "cell_type": "markdown",
      "source": [
        "2. Derivatives Using Newton’s Backward Difference Formula\n",
        "\n",
        "Example 3: Estimate the First Derivative\n",
        "\n",
        "Problem: Given the data:\n",
        "\n",
        "x=[3,4,5,6,7]\n",
        "\n",
        "y=[2.2,3.5,5.1,7.3,10.0]\n",
        "\n",
        "Estimate dy/dx​ at x=7."
      ],
      "metadata": {
        "id": "UV0kF4OHdBfr"
      }
    },
    {
      "cell_type": "code",
      "source": [
        "# Backward difference table\n",
        "n = len(y)\n",
        "backward_diff = np.zeros((n, n))\n",
        "backward_diff[:, 0] = y\n",
        "\n",
        "for j in range(1, n):\n",
        "    for i in range(j, n):\n",
        "        backward_diff[i, j] = backward_diff[i, j - 1] - backward_diff[i - 1, j - 1]\n",
        "\n",
        "# First derivative using Newton's backward formula\n",
        "dy_dx = backward_diff[-1, 1] / h\n",
        "print(f\"First derivative at x = 7: {dy_dx}\")\n"
      ],
      "metadata": {
        "colab": {
          "base_uri": "https://localhost:8080/"
        },
        "id": "42liKctZdlsR",
        "outputId": "a6050aa8-c367-47b7-96e8-bb70b8b2d33f"
      },
      "execution_count": 3,
      "outputs": [
        {
          "output_type": "stream",
          "name": "stdout",
          "text": [
            "First derivative at x = 7: 6.1\n"
          ]
        }
      ]
    },
    {
      "cell_type": "markdown",
      "source": [
        "1. Backward Difference Table: This table calculates differences between y-values from the bottom up.\n",
        "2. First Derivative Formula: The first derivative at the endpoint is approximated using the first backward difference.\n",
        "3. Result: The derivative dy/dx​ at x=7."
      ],
      "metadata": {
        "id": "_GMj3vesdo0i"
      }
    },
    {
      "cell_type": "markdown",
      "source": [
        "3. Derivatives Using Unequally Spaced Values\n",
        "\n",
        "Example 4: Lagrange’s Interpolation Formula for Derivatives\n",
        "\n",
        "Problem: Given the data:\n",
        "\n",
        "x=[1,2,4,7]\n",
        "\n",
        "y=[1,3,5,4]\n",
        "\n",
        "Estimate dy/dx​ at x=3."
      ],
      "metadata": {
        "id": "scXwQSbrdwRI"
      }
    },
    {
      "cell_type": "code",
      "source": [
        "def lagrange_derivative(x_vals, y_vals, x_point):\n",
        "    n = len(x_vals)\n",
        "    result = 0\n",
        "    for i in range(n):\n",
        "        term = 0\n",
        "        for j in range(n):\n",
        "            if j != i:\n",
        "                product = 1\n",
        "                for k in range(n):\n",
        "                    if k != i and k != j:\n",
        "                        product *= (x_point - x_vals[k]) / (x_vals[i] - x_vals[k])\n",
        "                term += product / (x_vals[i] - x_vals[j])\n",
        "        result += term * y_vals[i]\n",
        "    return result\n",
        "\n",
        "# Derivative at x = 3\n",
        "dy_dx = lagrange_derivative(x, y, 3)\n",
        "print(f\"First derivative at x = 3: {dy_dx}\")\n"
      ],
      "metadata": {
        "colab": {
          "base_uri": "https://localhost:8080/"
        },
        "id": "8Ulfzf39d47m",
        "outputId": "03d24afb-b62c-4c00-9a4b-2bc6c3b79c54"
      },
      "execution_count": 4,
      "outputs": [
        {
          "output_type": "stream",
          "name": "stdout",
          "text": [
            "First derivative at x = 3: 5.358333333333333\n"
          ]
        }
      ]
    },
    {
      "cell_type": "markdown",
      "source": [
        "1. Lagrange’s Formula for Derivatives: This formula generalizes the derivative calculation for unevenly spaced data.\n",
        "2. Result: The derivative dy/dx​ at x=3 is obtained directly."
      ],
      "metadata": {
        "id": "ulWbXjsUd8Nj"
      }
    },
    {
      "cell_type": "markdown",
      "source": [
        "4. Maxima and Minima of a Tabulated Function\n",
        "\n",
        "Example 5: Find the Minimum Value\n",
        "\n",
        "Problem: For the data:\n",
        "\n",
        "x=[3,4,5,6,7,8]\n",
        "\n",
        "y=[0.205,0.240,0.259,0.262,0.250,0.224]\n",
        "\n",
        "Find the value of x where y is minimum."
      ],
      "metadata": {
        "id": "B1vIMtYveZkP"
      }
    },
    {
      "cell_type": "code",
      "source": [
        "import pandas as pd\n",
        "\n",
        "# Data points\n",
        "x = np.array([3, 4, 5, 6, 7, 8])\n",
        "y = np.array([0.205, 0.240, 0.259, 0.262, 0.250, 0.224])\n",
        "\n",
        "# Difference table\n",
        "n = len(y)\n",
        "diff_table = pd.DataFrame(np.zeros((n, n)))\n",
        "diff_table[0] = y\n",
        "\n",
        "for j in range(1, n):\n",
        "    for i in range(n - j):\n",
        "        diff_table.iloc[i, j] = diff_table.iloc[i + 1, j - 1] - diff_table.iloc[i, j - 1]\n",
        "\n",
        "# Find p where dy/dp = 0 using Newton's forward difference formula\n",
        "dy_dp = diff_table.iloc[0, 1] - (0.5 * diff_table.iloc[0, 2])\n",
        "p = dy_dp / diff_table.iloc[0, 2]\n",
        "\n",
        "# Find x\n",
        "x_min = x[0] + p * (x[1] - x[0])\n",
        "print(f\"Value of x where y is minimum: {x_min}\")\n"
      ],
      "metadata": {
        "colab": {
          "base_uri": "https://localhost:8080/"
        },
        "id": "Mxlog75yegW-",
        "outputId": "e961b5aa-7790-49cb-e30b-67ed9c788655"
      },
      "execution_count": 5,
      "outputs": [
        {
          "output_type": "stream",
          "name": "stdout",
          "text": [
            "Value of x where y is minimum: 0.3124999999999978\n"
          ]
        }
      ]
    },
    {
      "cell_type": "markdown",
      "source": [
        "1. Difference Table: Constructed to approximate derivatives.\n",
        "2. Condition for Minima: Set dy/dp=0 and solve for p.\n",
        "3. Result: Compute x corresponding to the minimum value of y."
      ],
      "metadata": {
        "id": "k-nNBp88ejFK"
      }
    }
  ]
}