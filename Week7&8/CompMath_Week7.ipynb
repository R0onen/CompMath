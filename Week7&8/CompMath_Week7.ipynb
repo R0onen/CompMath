{
  "nbformat": 4,
  "nbformat_minor": 0,
  "metadata": {
    "colab": {
      "provenance": []
    },
    "kernelspec": {
      "name": "python3",
      "display_name": "Python 3"
    },
    "language_info": {
      "name": "python"
    }
  },
  "cells": [
    {
      "cell_type": "markdown",
      "source": [
        "# **Interpolation**. Newton’s Forward/Backward Interpolation Formula. Central difference Interpolation Formula. Lagrange’s Interpolation Formula. Divided differences, Newton’s Divided Difference Formula Spline Interpolation."
      ],
      "metadata": {
        "id": "Yqg6p-86nCo7"
      }
    },
    {
      "cell_type": "markdown",
      "source": [
        "1. Newton’s Forward Interpolation Formula\n",
        "\n",
        "Example 1: Interpolation for Equispaced Data\n",
        "\n",
        "Problem: Given the data points:\n",
        "\n",
        "x=[0,1,2,3]\n",
        "\n",
        "f(x)=[1,2,4,7]\n",
        "\n",
        "Estimate f(1.5)."
      ],
      "metadata": {
        "id": "yL0MnMX5nNtx"
      }
    },
    {
      "cell_type": "code",
      "execution_count": 1,
      "metadata": {
        "colab": {
          "base_uri": "https://localhost:8080/"
        },
        "id": "erjLE-KanBBF",
        "outputId": "00fe3a1a-e5c8-4135-a6fb-817a2caad0a2"
      },
      "outputs": [
        {
          "output_type": "stream",
          "name": "stdout",
          "text": [
            "Interpolated value at x = 1.5: 2.875\n"
          ]
        }
      ],
      "source": [
        "import numpy as np\n",
        "\n",
        "# Data points\n",
        "x = np.array([0, 1, 2, 3])\n",
        "y = np.array([1, 2, 4, 7])\n",
        "\n",
        "# Forward difference table\n",
        "n = len(y)\n",
        "forward_diff = np.zeros((n, n))\n",
        "forward_diff[:, 0] = y\n",
        "\n",
        "for j in range(1, n):\n",
        "    for i in range(n - j):\n",
        "        forward_diff[i, j] = forward_diff[i + 1, j - 1] - forward_diff[i, j - 1]\n",
        "\n",
        "# Calculate interpolation at x = 1.5\n",
        "h = x[1] - x[0]\n",
        "p = (1.5 - x[0]) / h\n",
        "interpolated_value = y[0]\n",
        "\n",
        "factorial = 1\n",
        "product = 1\n",
        "for i in range(1, n):\n",
        "    factorial *= i\n",
        "    product *= (p - (i - 1))\n",
        "    interpolated_value += (product * forward_diff[0, i]) / factorial\n",
        "\n",
        "print(f\"Interpolated value at x = 1.5: {interpolated_value}\")\n"
      ]
    },
    {
      "cell_type": "markdown",
      "source": [
        "1. Difference Table: Construct a forward difference table.\n",
        "2. Newton’s Formula: Use the first term (y0​) and add higher-order terms based on p, forward differences, and factorials.\n",
        "3. Result: The interpolated value at x=1.5."
      ],
      "metadata": {
        "id": "_QCOWY0tnbIJ"
      }
    },
    {
      "cell_type": "markdown",
      "source": [
        "2. Newton’s Backward Interpolation Formula\n",
        "\n",
        "Example 2: Estimation Near the End of Data\n",
        "\n",
        "Problem: For the same data points, estimate f(2.8)."
      ],
      "metadata": {
        "id": "d_Rw7QM9nkgs"
      }
    },
    {
      "cell_type": "code",
      "source": [
        "# Backward difference table\n",
        "backward_diff = np.zeros((n, n))\n",
        "backward_diff[:, 0] = y\n",
        "\n",
        "for j in range(1, n):\n",
        "    for i in range(j, n):\n",
        "        backward_diff[i, j] = backward_diff[i, j - 1] - backward_diff[i - 1, j - 1]\n",
        "\n",
        "# Calculate interpolation at x = 2.8\n",
        "p = (2.8 - x[-1]) / h\n",
        "interpolated_value = y[-1]\n",
        "\n",
        "factorial = 1\n",
        "product = 1\n",
        "for i in range(1, n):\n",
        "    factorial *= i\n",
        "    product *= (p + (i - 1))\n",
        "    interpolated_value += (product * backward_diff[-1, i]) / factorial\n",
        "\n",
        "print(f\"Interpolated value at x = 2.8: {interpolated_value}\")\n"
      ],
      "metadata": {
        "colab": {
          "base_uri": "https://localhost:8080/"
        },
        "id": "L9HgOiybno4_",
        "outputId": "1bfd4991-58b3-455b-84fb-c09513affd47"
      },
      "execution_count": 2,
      "outputs": [
        {
          "output_type": "stream",
          "name": "stdout",
          "text": [
            "Interpolated value at x = 2.8: 6.319999999999999\n"
          ]
        }
      ]
    },
    {
      "cell_type": "markdown",
      "source": [
        "1. Difference Table: Construct a backward difference table.\n",
        "2. Newton’s Backward Formula: Use the last term (yn​) and add higher-order terms based on p, backward differences, and factorials.\n",
        "3. Result: The interpolated value at x=2.8."
      ],
      "metadata": {
        "id": "peEa2oAMns52"
      }
    },
    {
      "cell_type": "markdown",
      "source": [
        "3. Central Difference Interpolation Formula\n",
        "\n",
        "Example 3: Interpolation Near the Center\n",
        "\n",
        "Problem: Given the data points:\n",
        "\n",
        "x=[1,2,3,4,5]\n",
        "\n",
        "f(x)=[1,8,27,64,125]\n",
        "\n",
        "Estimate f(3.5)."
      ],
      "metadata": {
        "id": "wK18SdAupA_L"
      }
    },
    {
      "cell_type": "code",
      "source": [
        "import numpy as np\n",
        "\n",
        "# Data points\n",
        "x = np.array([1, 2, 3, 4, 5])\n",
        "y = np.array([1, 8, 27, 64, 125])\n",
        "\n",
        "# Calculate central differences\n",
        "n = len(y)\n",
        "central_diff = np.zeros((n, n))\n",
        "central_diff[:, 0] = y\n",
        "\n",
        "for j in range(1, n):\n",
        "    for i in range(n - j):\n",
        "        central_diff[i, j] = central_diff[i + 1, j - 1] - central_diff[i, j - 1]\n",
        "\n",
        "# Step size\n",
        "h = x[1] - x[0]\n",
        "\n",
        "# Central point (x3)\n",
        "x_mid = x[len(x) // 2]\n",
        "p = (3.5 - x_mid) / h\n",
        "\n",
        "# Interpolate using Central Difference Interpolation Formula\n",
        "interpolated_value = y[len(x) // 2]\n",
        "product = 1\n",
        "factorial = 1\n",
        "\n",
        "for i in range(1, n):\n",
        "    factorial *= i\n",
        "    if i % 2 == 0:\n",
        "        product *= (p**2 - ((i // 2) - 1)**2)\n",
        "        interpolated_value += (product * central_diff[len(x) // 2 - i // 2, i]) / factorial\n",
        "    else:\n",
        "        product *= (p - (i // 2))\n",
        "        interpolated_value += (product * central_diff[len(x) // 2 - i // 2, i]) / factorial\n",
        "\n",
        "print(f\"Interpolated value at x = 3.5: {interpolated_value}\")\n"
      ],
      "metadata": {
        "colab": {
          "base_uri": "https://localhost:8080/"
        },
        "id": "bEMYlMtvpMNM",
        "outputId": "ea692101-f2dd-4844-94a0-8d6804fb535c"
      },
      "execution_count": 3,
      "outputs": [
        {
          "output_type": "stream",
          "name": "stdout",
          "text": [
            "Interpolated value at x = 3.5: 46.5625\n"
          ]
        }
      ]
    },
    {
      "cell_type": "markdown",
      "source": [
        "1. Central Difference Interpolation Formula: It uses p=(x−xmid)/h​​, where xmid​ is the midpoint of the x-values.\n",
        "2. Central Difference Table: Constructed similarly to forward and backward difference tables but used for central differences.\n",
        "3. Interpolation: The formula uses terms involving p, central differences, and factorials to compute the interpolated value.\n",
        "4. Result: The interpolated value at x=3.5."
      ],
      "metadata": {
        "id": "RLijV4KqpSmu"
      }
    },
    {
      "cell_type": "markdown",
      "source": [
        "4. Lagrange’s Interpolation Formula\n",
        "\n",
        "Example 4: Unevenly Spaced Data\n",
        "\n",
        "Problem: Given data points:\n",
        "\n",
        "x=[5,6,9,11]\n",
        "\n",
        "y=[12,13,14,16]\n",
        "\n",
        "Estimate f(8)."
      ],
      "metadata": {
        "id": "cOuXBo27pzbP"
      }
    },
    {
      "cell_type": "code",
      "source": [
        "def lagrange_interpolation(x, y, x_value):\n",
        "    n = len(x)\n",
        "    result = 0\n",
        "    for i in range(n):\n",
        "        term = y[i]\n",
        "        for j in range(n):\n",
        "            if j != i:\n",
        "                term *= (x_value - x[j]) / (x[i] - x[j])\n",
        "        result += term\n",
        "    return result\n",
        "\n",
        "x = [5, 6, 9, 11]\n",
        "y = [12, 13, 14, 16]\n",
        "interpolated_value = lagrange_interpolation(x, y, 8)\n",
        "print(f\"Interpolated value at x = 8: {interpolated_value}\")\n"
      ],
      "metadata": {
        "colab": {
          "base_uri": "https://localhost:8080/"
        },
        "id": "efYTLKwJqUsP",
        "outputId": "ea7ab213-22b5-418e-f5c3-2e5dbb7f4e30"
      },
      "execution_count": 4,
      "outputs": [
        {
          "output_type": "stream",
          "name": "stdout",
          "text": [
            "Interpolated value at x = 8: 13.700000000000001\n"
          ]
        }
      ]
    },
    {
      "cell_type": "markdown",
      "source": [
        "1. Unlike Newton’s interpolation formulas, Lagrange’s formula does not require constructing a difference table. Instead, it directly computes the interpolated value using the given data points.\n",
        "2. The formula is based on Lagrange polynomials\n",
        "3. The interpolated value f(8) is calculated. This method is particularly effective for unevenly spaced data, as it avoids reliance on evenly spaced intervals."
      ],
      "metadata": {
        "id": "c_7HRQSTqdIN"
      }
    },
    {
      "cell_type": "markdown",
      "source": [
        "5. Spline Interpolation\n",
        "\n",
        "Example 5: Cubic Spline\n",
        "\n",
        "Problem: Fit a cubic spline to the data and interpolate f(1.5)."
      ],
      "metadata": {
        "id": "HWcfa0FQqwDE"
      }
    },
    {
      "cell_type": "code",
      "source": [
        "from scipy.interpolate import CubicSpline\n",
        "\n",
        "# Data points\n",
        "x = [0, 1, 2, 3]\n",
        "y = [1, 2, 4, 7]\n",
        "\n",
        "# Cubic spline interpolation\n",
        "cs = CubicSpline(x, y)\n",
        "interpolated_value = cs(1.5)\n",
        "print(f\"Interpolated value using Cubic Spline at x = 1.5: {interpolated_value}\")\n"
      ],
      "metadata": {
        "colab": {
          "base_uri": "https://localhost:8080/"
        },
        "id": "-ureGKx5q91w",
        "outputId": "e7bd6fa5-f9c6-4ef6-de83-f6f59f8c42c6"
      },
      "execution_count": 5,
      "outputs": [
        {
          "output_type": "stream",
          "name": "stdout",
          "text": [
            "Interpolated value using Cubic Spline at x = 1.5: 2.875\n"
          ]
        }
      ]
    },
    {
      "cell_type": "code",
      "source": [
        "from scipy.interpolate import interp1d\n",
        "\n",
        "# Data points\n",
        "x = [1, 2, 3, 4]\n",
        "y = [1, 4, 9, 16]\n",
        "\n",
        "# Create a quadratic spline\n",
        "quadratic_spline = interp1d(x, y, kind='quadratic')\n",
        "\n",
        "# Interpolate at x = 2.5\n",
        "interpolated_value = quadratic_spline(2.5)\n",
        "print(f\"Interpolated value using Quadratic Spline at x = 2.5: {interpolated_value}\")\n"
      ],
      "metadata": {
        "colab": {
          "base_uri": "https://localhost:8080/"
        },
        "id": "Aw6_zzizrPcJ",
        "outputId": "e40e0d7c-4b43-4df5-9338-a12071c228db"
      },
      "execution_count": 6,
      "outputs": [
        {
          "output_type": "stream",
          "name": "stdout",
          "text": [
            "Interpolated value using Quadratic Spline at x = 2.5: 6.250000000000001\n"
          ]
        }
      ]
    },
    {
      "cell_type": "markdown",
      "source": [
        "1. It fits piecewise polynomials (cubic or quadratic) between data points to achieve a smooth curve. Each segment is a polynomial that ensures continuity and smoothness across the entire dataset.\n",
        "2. Quadratic Spline: Fits a second-degree polynomial S(x)=ax2+bx+c for each interval between data points. The coefficients a,b,c are calculated by solving equations that ensure smooth transitions between intervals.\n",
        "3. Cubic Spline: Fits a third-degree polynomial S(x)=ax3+bx2+cx+d. Cubic splines provide smoother results by ensuring that both the first and second derivatives are continuous across intervals.\n",
        "4. The interpolated value at the desired point is computed by evaluating the corresponding polynomial in the interval containing the point."
      ],
      "metadata": {
        "id": "Z-_pWU_frAuY"
      }
    },
    {
      "cell_type": "markdown",
      "source": [
        "6. Newton’s Divided Difference Formula\n",
        "\n",
        "Example 6: Divided Difference Table and Interpolation\n",
        "\n",
        "Problem: Given the data points:\n",
        "\n",
        "x=[1,2,4,7]\n",
        "\n",
        "f(x)=[1,3,5,4]\n",
        "\n",
        "Estimate f(3)."
      ],
      "metadata": {
        "id": "FigQCeG7sCIL"
      }
    },
    {
      "cell_type": "code",
      "source": [
        "import numpy as np\n",
        "\n",
        "# Data points\n",
        "x = np.array([1, 2, 4, 7])\n",
        "y = np.array([1, 3, 5, 4])\n",
        "\n",
        "# Create the divided difference table\n",
        "n = len(x)\n",
        "div_diff = np.zeros((n, n))\n",
        "div_diff[:, 0] = y  # First column is y values\n",
        "\n",
        "for j in range(1, n):\n",
        "    for i in range(n - j):\n",
        "        div_diff[i, j] = (div_diff[i + 1, j - 1] - div_diff[i, j - 1]) / (x[i + j] - x[i])\n",
        "\n",
        "# Interpolation using the divided difference formula\n",
        "def newton_divided_difference(x, div_diff, value):\n",
        "    n = len(x)\n",
        "    result = div_diff[0, 0]\n",
        "    product = 1\n",
        "    for i in range(1, n):\n",
        "        product *= (value - x[i - 1])\n",
        "        result += product * div_diff[0, i]\n",
        "    return result\n",
        "\n",
        "# Interpolate at x = 3\n",
        "interpolated_value = newton_divided_difference(x, div_diff, 3)\n",
        "print(f\"Divided Difference Table:\\n{div_diff}\")\n",
        "print(f\"Interpolated value at x = 3: {interpolated_value}\")\n"
      ],
      "metadata": {
        "colab": {
          "base_uri": "https://localhost:8080/"
        },
        "id": "T1-U8Mo7sK9g",
        "outputId": "2280853e-a42c-414a-daf3-23ecc3c2fe24"
      },
      "execution_count": 7,
      "outputs": [
        {
          "output_type": "stream",
          "name": "stdout",
          "text": [
            "Divided Difference Table:\n",
            "[[ 1.          2.         -0.33333333  0.01111111]\n",
            " [ 3.          1.         -0.26666667  0.        ]\n",
            " [ 5.         -0.33333333  0.          0.        ]\n",
            " [ 4.          0.          0.          0.        ]]\n",
            "Interpolated value at x = 3: 4.311111111111111\n"
          ]
        }
      ]
    },
    {
      "cell_type": "markdown",
      "source": [
        "1. Construct a divided difference table, which generalizes the difference table for unevenly spaced data points. The first column contains the y-values of the data points. Higher-order divided differences are computed recursively.\n",
        "2. Newton’s Formula: Start with the first divided difference f[x0]. Successively add higher-order terms, where each term involves a divided difference and a product of (x−xi​) terms.\n",
        "3. The interpolated value at x=3 is calculated."
      ],
      "metadata": {
        "id": "023TLzUCskeS"
      }
    },
    {
      "cell_type": "markdown",
      "source": [
        "Summary for Week 7:\n",
        "\n",
        "    Newton’s Forward/Backward Interpolation:\n",
        "        Used for equispaced data points.\n",
        "        Forward interpolation is suitable near the beginning of the dataset, while backward is used near the end.\n",
        "\n",
        "    Central Difference Formula:\n",
        "        Provides better approximations near the center of the data.\n",
        "\n",
        "    Lagrange’s Interpolation:\n",
        "        A direct formula that does not require a difference table.\n",
        "        Useful for unevenly spaced data.\n",
        "\n",
        "    Divided Differences:\n",
        "        Generalizes Newton’s formula to work with unevenly spaced data.\n",
        "\n",
        "    Spline Interpolation:\n",
        "        Fits piecewise polynomials (linear, quadratic, or cubic).\n",
        "        Provides smooth transitions between data points."
      ],
      "metadata": {
        "id": "Z_MZo7YktF4b"
      }
    }
  ]
}