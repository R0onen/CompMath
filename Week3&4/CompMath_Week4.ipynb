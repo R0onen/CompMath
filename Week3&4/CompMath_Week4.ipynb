{
  "nbformat": 4,
  "nbformat_minor": 0,
  "metadata": {
    "colab": {
      "provenance": []
    },
    "kernelspec": {
      "name": "python3",
      "display_name": "Python 3"
    },
    "language_info": {
      "name": "python"
    }
  },
  "cells": [
    {
      "cell_type": "markdown",
      "source": [
        "# **Matrix Inversion and Eigenvalue Problem.** Iterative Method, LU factorization, Power method, Jacobi’s method, Given’s Method, House-Holder’s Method."
      ],
      "metadata": {
        "id": "eJWZiYOtAy7B"
      }
    },
    {
      "cell_type": "markdown",
      "source": [
        "1. Iterative Method\n",
        "\n",
        "Working principle:\n",
        "Iterative Method of Matrix Inversion involves an approximate estimate of the inverse matrix using the initial matrix B, which is an approximation to ![Screenshot 2024-12-13 at 18-41-37 Сomputational Mathematics.png](data:image/png;base64,iVBORw0KGgoAAAANSUhEUgAAADAAAAAqCAYAAAD1T9h6AAACRUlEQVRYR+1YP685URAdH4BCLxGJComETkehUCBaCR9AiKhFRK2g0ggSdIJSwScgJKKSKHQaCYn6vd+5ycr687P73rrPbnKnXHfGnDNn5s6u6eufkYHNJAB8uHqiAh8uAIkKiApoZEBISCOBzH2xWJDP5/tVqI9VYDqd0mq1okajQTabjWazmbEAFItFstvtlM/nye/38wcAxkKh0K9YeuVksVj4A6hWq1Qul2k4HL4dBHcAx+ORXC4XXS4XYwJIpVIscZjhKgDdJ5NJxj4sl8tRpVK5kfRut6NWq6WqN+594cRVQsFgkCKRCPX7fdput08BqMr8xSFuAJrNJvV6PTbeAGQ+n1M6naZ6va415xt/LgCkxu12u2zqSAC0zOv/oeYCAJfMfr+nTqfD/jebzVK73dY0r+8BgJTT6cSkCQM5brf7xxV+WCXQlIFAgDabDVmtVhYcgGq1GjmdTra36MkeAEiNWygUrnlKAPDgfD7rKf/bN7LBYECZTIagfbmNx2MmId0DgEQOh8NLhrFBOhwO3VThKiHIZL1e02g0ekgOF1o8HmfPedzGWthgANC44XCYJpPJU3bxu9fr1S+AWCxGHo/nYU2QM4N5DSuVSiRvcC3svcPXFI1Gv3DbYs/By4U0OqXguNSWy+VVQpASQPxFH2AbQE7YtRKJxFO8JrPZfP24ixEq7wG59u+9AUS66N7B5LMYqgCIj7u86FcZ92NfJVTmp3hMAFCkiPMBUQHOBCuGFxVQpIjzAVEBzgQrhjd8Bb4BcdWRktNo8zoAAAAASUVORK5CYII=). The error is calculated as E = AB - I, and the accuracy is improved iteratively."
      ],
      "metadata": {
        "id": "raIeTNdkA5wp"
      }
    },
    {
      "cell_type": "markdown",
      "source": [
        "Implementation 1: Iterative method with initial approximation"
      ],
      "metadata": {
        "id": "TR66S9QFCkJS"
      }
    },
    {
      "cell_type": "code",
      "execution_count": 2,
      "metadata": {
        "colab": {
          "base_uri": "https://localhost:8080/"
        },
        "id": "MBh7QoPB4KW0",
        "outputId": "c6871532-5ab2-4dd4-c340-f425239a73b4"
      },
      "outputs": [
        {
          "output_type": "stream",
          "name": "stdout",
          "text": [
            "Inverse matrix (iteratively):\n",
            "[[ 0.42857143  2.42857143 -1.42857143]\n",
            " [ 0.14285714  0.14285714 -0.14285714]\n",
            " [-0.85714286 -3.85714286  2.85714286]]\n",
            "Check: A * A_inv ≈ I\n",
            "[[ 1.00000000e+00  1.77635684e-15  0.00000000e+00]\n",
            " [-2.22044605e-16  1.00000000e+00  4.44089210e-16]\n",
            " [ 0.00000000e+00  8.88178420e-16  1.00000000e+00]]\n"
          ]
        }
      ],
      "source": [
        "import numpy as np\n",
        "\n",
        "def iterative_inverse(A, B, tol, max_iter):\n",
        "    \"\"\"Iterative method for finding the inverse matrix.\"\"\"\n",
        "    n = A.shape[0]\n",
        "    I = np.eye(n)  # Unit matrix\n",
        "    for _ in range(max_iter):\n",
        "        E = np.dot(A, B) - I  # Calculating the error\n",
        "        B_new = B - np.dot(B, E)  # Proximity update\n",
        "        # Checking if we have achieved accuracy\n",
        "        if np.linalg.norm(E, ord='fro') < tol:\n",
        "            return B_new\n",
        "        B = B_new\n",
        "    return B_new\n",
        "\n",
        "# Given matrix\n",
        "A = np.array([[1, 10, 1], [2, 0, 1], [3, 3, 2]], dtype=float)\n",
        "# Initial approximation\n",
        "B = np.linalg.inv(A) + 0.1 * np.random.randn(3, 3)  # Noisy initial approximation\n",
        "\n",
        "# Iterative process\n",
        "A_inv = iterative_inverse(A, B, tol=1e-6, max_iter=100)\n",
        "print(\"Inverse matrix (iteratively):\")\n",
        "print(A_inv)\n",
        "\n",
        "# Check\n",
        "print(\"Check: A * A_inv ≈ I\")\n",
        "print(np.dot(A, A_inv))"
      ]
    },
    {
      "cell_type": "markdown",
      "source": [
        "1. Initial guess B adds a small error to the exact inverse matrix.\n",
        "2. At each step, the error E=AB−I is calculated.\n",
        "3. New guess for ![Screenshot 2024-12-13 at 18-41-37 Сomputational Mathematics.png](data:image/png;base64,iVBORw0KGgoAAAANSUhEUgAAACYAAAAqCAYAAADf/ynVAAAAAXNSR0IArs4c6QAAAARnQU1BAACxjwv8YQUAAAAJcEhZcwAAEnQAABJ0Ad5mH3gAAAH/SURBVFhH7Zg7r0FBEMfn6j2i0ihIVBSCL4BEi04hKjXx6FBpPVqNaDXiCyA+AImIRCGoFSQk6nPtmOP9uJs45yr2l2x2ZvZI/pmZM2fjRzoAX4iG9q9DCONFCONFCONFCHvFcDgk68y/Tf5utwuj0QhqtRqYzWbo9Xp0cuTfMtbv98FgMMBqtaLIDSxjf6HT6ZD1WbRareT1esk786eMlctlCIfDmH61eCtss9lAqVQiTz3eCkulUrDf78lTj5dvJStdNBo9CUsmk1AsFtGWWSwW0Gg0yHvN7W8ZOp0OPB7P3Vv5svlZUx7KKLlcLmzSfD5PJ5+Du/nr9TrumUwG9Ho92tvtFnc1eCiMNfwhO5DL5ShyZDKZkKU8D4VVq1UIBALg9/vRdzgcuH8Sn88Hbrcb7cFggH4ikUAfoZKemM/nkslkktbrNUUk7C3WC6zX1OIuY/F4HLLZLBiNRoqcmc1mZCnPlbBWqwXT6RScTieOCnmp2fQyV3PMZrM9/6gS7EZgtVrJU45TxgqFAtjtdtjtdner3W7TUwDL5ZIsZUFhbHo3m02oVCoYvMVisZClHigsnU5DJBJ5WqLLOCulGmhCodDpO8UG6y0sdnndGY/HmGHFYfNJXsFgEGeIDLscXp5frlgsRk8pg/i3hxchjBchjBchjBchjBchjA+AX4jkx0VGapb+AAAAAElFTkSuQmCC): Bnew=B−BE.\n",
        "4. Iterations continue until the error norm E is less than a given threshold (10^−6)."
      ],
      "metadata": {
        "id": "CiXwSgi9DR2r"
      }
    },
    {
      "cell_type": "markdown",
      "source": [
        "2. LU Factorization\n",
        "\n",
        "How it works: LU factorization represents a square matrix A as a product of two matrices:\n",
        "\n",
        "A=LU\n",
        "\n",
        "where L is a lower triangular matrix with ones on the main diagonal, and U is an upper triangular matrix. This is useful for solving systems of linear equations and matrix inversion."
      ],
      "metadata": {
        "id": "TXE0-oY_ih5y"
      }
    },
    {
      "cell_type": "code",
      "source": [
        "def lu_factorization(A):\n",
        "    \"\"\"LU factorization of a matrix.\"\"\"\n",
        "    n = A.shape[0]\n",
        "    L = np.eye(n)  # Lower triangular matrix\n",
        "    U = A.copy()  # Upper triangular matrix\n",
        "\n",
        "    for i in range(n):\n",
        "        for j in range(i+1, n):\n",
        "            factor = U[j, i] / U[i, i]\n",
        "            L[j, i] = factor\n",
        "            U[j, i:] -= factor * U[i, i:]\n",
        "\n",
        "    return L, U\n",
        "\n",
        "def solve_lu(L, U, b):\n",
        "    \"\"\"Solving the system using LU decomposition.\"\"\"\n",
        "    # Straight move for Ly = b\n",
        "    n = L.shape[0]\n",
        "    y = np.zeros(n)\n",
        "    for i in range(n):\n",
        "        y[i] = b[i] - np.dot(L[i, :i], y[:i])\n",
        "\n",
        "    # Reverse move for Ux = y\n",
        "    x = np.zeros(n)\n",
        "    for i in range(n-1, -1, -1):\n",
        "        x[i] = (y[i] - np.dot(U[i, i+1:], x[i+1:])) / U[i, i]\n",
        "\n",
        "    return x\n",
        "\n",
        "# Example of a matrix and right-hand side\n",
        "A = np.array([[4, -1, 0], [-1, 4, -1], [0, -1, 4]], dtype=float)\n",
        "b = np.array([15, 10, 10], dtype=float)\n",
        "\n",
        "# LU-factorization\n",
        "L, U = lu_factorization(A)\n",
        "print(\"Lower triangular matrix L:\")\n",
        "print(L)\n",
        "print(\"Upper triangular matrix U:\")\n",
        "print(U)\n",
        "\n",
        "# Solution of the system\n",
        "x = solve_lu(L, U, b)\n",
        "print(\"Solution of Ax = b:\")\n",
        "print(x)\n",
        "\n",
        "# Check\n",
        "check = np.dot(A, x)\n",
        "print(\"Check: A * x ≈ b\")\n",
        "print(check)"
      ],
      "metadata": {
        "colab": {
          "base_uri": "https://localhost:8080/"
        },
        "id": "JLbyjuRrftIn",
        "outputId": "3f54ac67-6891-4816-e981-d17aedb9053c"
      },
      "execution_count": 10,
      "outputs": [
        {
          "output_type": "stream",
          "name": "stdout",
          "text": [
            "Lower triangular matrix L:\n",
            "[[ 1.          0.          0.        ]\n",
            " [-0.25        1.          0.        ]\n",
            " [ 0.         -0.26666667  1.        ]]\n",
            "Upper triangular matrix U:\n",
            "[[ 4.         -1.          0.        ]\n",
            " [ 0.          3.75       -1.        ]\n",
            " [ 0.          0.          3.73333333]]\n",
            "Solution of Ax = b:\n",
            "[4.91071429 4.64285714 3.66071429]\n",
            "Check: A * x ≈ b\n",
            "[15. 10. 10.]\n"
          ]
        }
      ]
    },
    {
      "cell_type": "markdown",
      "source": [
        "1. The matrix A is decomposed into L and U.\n",
        "2. The system Ax=b is transformed into two: Ly=b and Ux=y.\n",
        "3. The solution is carried out in two stages: the forward move (calculating y) and the backward move (calculating x).\n",
        "4. The LU decomposition is effective for multiple solutions of systems with the same matrix but different right-hand sides."
      ],
      "metadata": {
        "id": "MR0XO81Ej-_G"
      }
    },
    {
      "cell_type": "markdown",
      "source": [
        "3. Power Method\n",
        "\n",
        "How it works: The power method is used to find the largest eigenvalue and the corresponding eigenvector of the matrix A. It starts with an initial vector v0​, which is iteratively updated until convergence."
      ],
      "metadata": {
        "id": "Ofe4Em78k3Yc"
      }
    },
    {
      "cell_type": "code",
      "source": [
        "def power_method(A, v0, tol, max_iter):\n",
        "    \"\"\"Power iteration method for the largest eigenvalue.\"\"\"\n",
        "    v = v0 / np.linalg.norm(v0)  # Normalization of the initial vector\n",
        "    for _ in range(max_iter):\n",
        "        w = np.dot(A, v)  # Matrix-vector multiplication\n",
        "        lambda_new = np.dot(w, v)  # Eigenvalue approximation\n",
        "        v_new = w / np.linalg.norm(w)  # Normalization of the new vector\n",
        "\n",
        "        # Convergence check\n",
        "        if np.linalg.norm(v_new - v) < tol:\n",
        "            return lambda_new, v_new\n",
        "\n",
        "        v = v_new\n",
        "    return lambda_new, v_new\n",
        "\n",
        "# Example matrix\n",
        "A = np.array([[4, 1], [2, 3]], dtype=float)\n",
        "v0 = np.array([1, 1], dtype=float)\n",
        "\n",
        "# Finding the eigenvalue and vector\n",
        "lambda_max, eigenvector = power_method(A, v0, tol=1e-6, max_iter=100)\n",
        "print(\"Largest eigenvalue:\")\n",
        "print(np.round(lambda_max))\n",
        "print(\"The corresponding eigenvector:\")\n",
        "print(eigenvector)"
      ],
      "metadata": {
        "colab": {
          "base_uri": "https://localhost:8080/"
        },
        "id": "UdPjJZpUs33B",
        "outputId": "07aebdb1-d796-4184-c703-c9d4e273dcda"
      },
      "execution_count": 9,
      "outputs": [
        {
          "output_type": "stream",
          "name": "stdout",
          "text": [
            "Largest eigenvalue:\n",
            "5.0\n",
            "The corresponding eigenvector:\n",
            "[0.70710678 0.70710678]\n"
          ]
        }
      ]
    },
    {
      "cell_type": "markdown",
      "source": [
        "1. Initially, an arbitrary initial vector v0 is specified, which is normalized.\n",
        "2. Iterations: multiplying the matrix A by the current vector v, normalizing the result.\n",
        "3. The eigenvalue approximation is calculated as ![Screenshot 2024-12-16 at 19-37-26 Сomputational Mathematics.png](data:image/png;base64,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)\n",
        "4. Convergence is achieved when the difference between the vectors vnew and v becomes less than the specified accuracy."
      ],
      "metadata": {
        "id": "Wc5miBRNsFsu"
      }
    },
    {
      "cell_type": "markdown",
      "source": [
        "4. Jacobi Method for Finding All Eigenvalues\n",
        "\n",
        "How it works: Jacobi Method uses orthogonal transformations to diagonalize a symmetric matrix. The elements on the diagonal of the transformed matrix are the eigenvalues."
      ],
      "metadata": {
        "id": "2JCiFi90sPB9"
      }
    },
    {
      "cell_type": "code",
      "source": [
        "#np.seterr(divide='ignore', invalid='ignore')\n",
        "def jacobi_eigenvalues(A, tol, max_iter):\n",
        "    \"\"\"Jacobi's method for finding all eigenvalues.\"\"\"\n",
        "    n = A.shape[0]\n",
        "    V = np.eye(n)\n",
        "    for _ in range(max_iter):\n",
        "        # Find the maximum off-diagonal element\n",
        "        max_val = 0\n",
        "        for i in range(n):\n",
        "            for j in range(i+1, n):\n",
        "                if abs(A[i, j]) > abs(max_val):\n",
        "                    max_val = A[i, j]\n",
        "                    p, q = i, j\n",
        "\n",
        "        if abs(max_val) < tol:\n",
        "            break\n",
        "\n",
        "        # Calculating rotation parameters\n",
        "        theta = 0.5 * np.arctan(2 * A[p, q] / (A[p, p] - A[q, q]))\n",
        "        cos = np.cos(theta)\n",
        "        sin = np.sin(theta)\n",
        "\n",
        "        # We apply the Jacobi transformation\n",
        "        R = np.eye(n)\n",
        "        R[p, p] = R[q, q] = cos\n",
        "        R[p, q] = sin\n",
        "        R[q, p] = -sin\n",
        "        A = R.T @ A @ R\n",
        "        V = V @ R\n",
        "\n",
        "    eigenvalues = np.diag(A)\n",
        "    return eigenvalues, V\n",
        "\n",
        "# Example of a symmetric matrix\n",
        "A = np.array([[5, 0, 1], [0, -2, 0], [1, 0, 5]], dtype=float)\n",
        "\n",
        "# Finding eigenvalues ​​and eigenvectors\n",
        "eigenvalues, eigenvectors = jacobi_eigenvalues(A, tol=1e-6, max_iter=100)\n",
        "print(\"Eigenvalues:\")\n",
        "print(eigenvalues)\n",
        "print(\"Eigenvectors:\")\n",
        "print(eigenvectors)"
      ],
      "metadata": {
        "colab": {
          "base_uri": "https://localhost:8080/"
        },
        "id": "iUNxEi7FtDaV",
        "outputId": "732451a9-dbf4-4f0e-a082-2c4dc434d25b"
      },
      "execution_count": 8,
      "outputs": [
        {
          "output_type": "stream",
          "name": "stdout",
          "text": [
            "Eigenvalues:\n",
            "[ 4. -2.  6.]\n",
            "Eigenvectors:\n",
            "[[ 0.70710678  0.          0.70710678]\n",
            " [ 0.          1.          0.        ]\n",
            " [-0.70710678  0.          0.70710678]]\n"
          ]
        },
        {
          "output_type": "stream",
          "name": "stderr",
          "text": [
            "<ipython-input-8-765570f69ade>:19: RuntimeWarning: divide by zero encountered in scalar divide\n",
            "  theta = 0.5 * np.arctan(2 * A[p, q] / (A[p, p] - A[q, q]))\n"
          ]
        }
      ]
    },
    {
      "cell_type": "markdown",
      "source": [
        "1. At each step, the method finds the maximum off-diagonal element of the matrix.\n",
        "2. The Jacobi rotation is applied, which reduces the off-diagonal elements.\n",
        "3. The iterations continue until the off-diagonal elements become less than the specified accuracy."
      ],
      "metadata": {
        "id": "9u6FMS9ncoM1"
      }
    },
    {
      "cell_type": "markdown",
      "source": [
        "5. Givens Method\n",
        "\n",
        "How it works: Givens' method is used to reduce a symmetric matrix A to tridiagonal form. This is achieved by successive application of Givens' orthogonal transformations, which set elements outside adjacent diagonals to zero."
      ],
      "metadata": {
        "id": "Au4V6r1tcox0"
      }
    },
    {
      "cell_type": "code",
      "source": [
        "def givens_rotation(A):\n",
        "    \"\"\"QR decomposition by Givens method.\"\"\"\n",
        "    m, n = A.shape\n",
        "    Q = np.eye(m)  # Orthogonal matrix\n",
        "    R = A.copy()\n",
        "\n",
        "    for i in range(n):\n",
        "        for j in range(i+1, m):\n",
        "            if R[j, i] != 0:\n",
        "                r = np.hypot(R[i, i], R[j, i])\n",
        "                cos = R[i, i] / r\n",
        "                sin = -R[j, i] / r\n",
        "\n",
        "                G = np.eye(m)  # Givens rotation matrix\n",
        "                G[i, i] = cos\n",
        "                G[j, j] = cos\n",
        "                G[i, j] = -sin\n",
        "                G[j, i] = sin\n",
        "\n",
        "                R = G @ R  # Transform R\n",
        "                Q = Q @ G.T  # Accumulation of Q\n",
        "\n",
        "    return Q, R\n",
        "\n",
        "# Example\n",
        "A = np.array([[12, -51, 4], [6, 167, -68], [-4, 24, -41]], dtype=float)\n",
        "\n",
        "# QR decomposition\n",
        "Q, R = givens_rotation(A)\n",
        "print(\"Matrix Q:\")\n",
        "print(Q)\n",
        "print(\"Matrix R:\")\n",
        "print(R)\n",
        "\n",
        "# Check\n",
        "print(\"Check: A ≈ QR\")\n",
        "print(Q @ R)\n"
      ],
      "metadata": {
        "colab": {
          "base_uri": "https://localhost:8080/"
        },
        "id": "Opw4BXxj6Qfd",
        "outputId": "2e084bef-bf49-441a-c2af-af281c4339e2"
      },
      "execution_count": 11,
      "outputs": [
        {
          "output_type": "stream",
          "name": "stdout",
          "text": [
            "Matrix Q:\n",
            "[[ 0.85714286 -0.39428571  0.33142857]\n",
            " [ 0.42857143  0.90285714 -0.03428571]\n",
            " [-0.28571429  0.17142857  0.94285714]]\n",
            "Matrix R:\n",
            "[[ 1.40000000e+01  2.10000000e+01 -1.40000000e+01]\n",
            " [-2.18463005e-16  1.75000000e+02 -7.00000000e+01]\n",
            " [ 3.97205465e-17  3.11650577e-15 -3.50000000e+01]]\n",
            "Check: A ≈ QR\n",
            "[[ 12. -51.   4.]\n",
            " [  6. 167. -68.]\n",
            " [ -4.  24. -41.]]\n"
          ]
        }
      ]
    },
    {
      "cell_type": "markdown",
      "source": [
        "1. For each pair of rows (i, j), apply Givens rotation to zero out the element R[j,i].\n",
        "2. Matrix G is an orthogonal rotation matrix.\n",
        "3. Iterations continue until R is upper triangular."
      ],
      "metadata": {
        "id": "IIaPxVk06wfk"
      }
    },
    {
      "cell_type": "code",
      "source": [
        "import numpy as np\n",
        "\n",
        "def givens_tridiagonal(A):\n",
        "    \"\"\"Givens' method for reducing a symmetric matrix to tridiagonal form.\"\"\"\n",
        "    n = A.shape[0]\n",
        "    for i in range(n-2):\n",
        "        for j in range(i+2, n):\n",
        "            if A[j, i] != 0:\n",
        "                r = np.hypot(A[i+1, i], A[j, i])  # Standardization\n",
        "                c = A[i+1, i] / r\n",
        "                s = -A[j, i] / r\n",
        "\n",
        "                # Givens rotation matrix\n",
        "                G = np.eye(n)\n",
        "                G[i+1, i+1] = G[j, j] = c\n",
        "                G[j, i+1] = s\n",
        "                G[i+1, j] = -s\n",
        "\n",
        "                # Updating the matrix A\n",
        "                A = G.T @ A @ G  # Transformation of a symmetric matrix\n",
        "\n",
        "    return A\n",
        "\n",
        "# Original symmetric matrix\n",
        "A = np.array([[1, 2, 2],\n",
        "              [2, 1, 2],\n",
        "              [2, 2, 1]], dtype=float)\n",
        "\n",
        "# Reduction to tridiagonal form\n",
        "T = givens_tridiagonal(A)\n",
        "print(\"Tridiagonal matrix:\")\n",
        "print(T)\n"
      ],
      "metadata": {
        "colab": {
          "base_uri": "https://localhost:8080/"
        },
        "id": "rC9RuCznctzA",
        "outputId": "8d0a92e1-3afd-409f-fd51-10af1b6e8663"
      },
      "execution_count": 12,
      "outputs": [
        {
          "output_type": "stream",
          "name": "stdout",
          "text": [
            "Tridiagonal matrix:\n",
            "[[ 1.00000000e+00  0.00000000e+00  2.82842712e+00]\n",
            " [ 0.00000000e+00 -1.00000000e+00  2.23711432e-17]\n",
            " [ 2.82842712e+00  4.39088730e-17  3.00000000e+00]]\n"
          ]
        }
      ]
    },
    {
      "cell_type": "markdown",
      "source": [
        "1. The goal of Givens' method is to zero out the elements off the main and adjacent diagonals of the matrix to obtain a tridiagonal form.\n",
        "2. The matrix G is a rotation that affects only two columns and rows.\n",
        "3. Givens transformations preserve the symmetry of the matrix."
      ],
      "metadata": {
        "id": "RvzgncS1dFDN"
      }
    },
    {
      "cell_type": "markdown",
      "source": [
        "6. Householder's Method\n",
        "\n",
        "How it works: Householder's Method is used to triangulate a matrix or to find eigenvalues. It constructs orthogonal transformations based on Householder vectors that zero out all elements below the pivot element in a column."
      ],
      "metadata": {
        "id": "qKxE5eWndGWU"
      }
    },
    {
      "cell_type": "code",
      "source": [
        "def householder_qr(A):\n",
        "    \"\"\"QR decomposition by Householder method.\"\"\"\n",
        "    m, n = A.shape\n",
        "    R = A.copy()\n",
        "    Q = np.eye(m)\n",
        "\n",
        "    for i in range(n):\n",
        "        # Create a Householder vector\n",
        "        x = R[i:, i]\n",
        "        e = np.zeros_like(x)\n",
        "        e[0] = np.linalg.norm(x)\n",
        "        v = x - e\n",
        "        v = v / np.linalg.norm(v)\n",
        "\n",
        "        # Householder Matrix\n",
        "        H = np.eye(m)\n",
        "        H[i:, i:] -= 2.0 * np.outer(v, v)\n",
        "\n",
        "        # Transformation of R and accumulation of Q\n",
        "        R = H @ R\n",
        "        Q = Q @ H.T\n",
        "\n",
        "    return Q, R\n",
        "\n",
        "# Example\n",
        "A = np.array([[12, -51, 4], [6, 167, -68], [-4, 24, -41]], dtype=float)\n",
        "\n",
        "# QR decomposition\n",
        "Q, R = householder_qr(A)\n",
        "print(\"Matrix Q:\")\n",
        "print(Q)\n",
        "print(\"Matrix R:\")\n",
        "print(R)\n",
        "\n",
        "# Check\n",
        "print(\"Check: A ≈ QR\")\n",
        "print(Q @ R)"
      ],
      "metadata": {
        "colab": {
          "base_uri": "https://localhost:8080/"
        },
        "id": "hMg7VE-k7J0v",
        "outputId": "bc18e466-acfe-413a-f78e-494ec4df2b5e"
      },
      "execution_count": 13,
      "outputs": [
        {
          "output_type": "stream",
          "name": "stdout",
          "text": [
            "Matrix Q:\n",
            "[[ 0.85714286 -0.39428571 -0.33142857]\n",
            " [ 0.42857143  0.90285714  0.03428571]\n",
            " [-0.28571429  0.17142857 -0.94285714]]\n",
            "Matrix R:\n",
            "[[ 1.40000000e+01  2.10000000e+01 -1.40000000e+01]\n",
            " [ 5.50670620e-16  1.75000000e+02 -7.00000000e+01]\n",
            " [ 3.01980663e-16  8.88178420e-15  3.50000000e+01]]\n",
            "Check: A ≈ QR\n",
            "[[ 12. -51.   4.]\n",
            " [  6. 167. -68.]\n",
            " [ -4.  24. -41.]]\n"
          ]
        }
      ]
    },
    {
      "cell_type": "markdown",
      "source": [
        "1. The method uses a vector vv that is formed to zero out all elements below the first in the current column.\n",
        "2. The Householder matrix H: H=I−2vvTvTv\n",
        "3. R becomes upper triangular and Q becomes orthogonal."
      ],
      "metadata": {
        "id": "t0aYhY7Ge4wV"
      }
    },
    {
      "cell_type": "code",
      "source": [
        "def householder_tridiagonal(A):\n",
        "    \"\"\"Householder's method for reducing a symmetric matrix to tridiagonal form.\"\"\"\n",
        "    n = A.shape[0]\n",
        "    T = A.copy()\n",
        "    for k in range(n-2):\n",
        "        x = T[k+1:, k]\n",
        "        e = np.zeros_like(x)\n",
        "        e[0] = np.linalg.norm(x)\n",
        "        v = x - e\n",
        "        v = v / np.linalg.norm(v)\n",
        "\n",
        "        # Householder Matrix\n",
        "        H = np.eye(n)\n",
        "        H[k+1:, k+1:] -= 2.0 * np.outer(v, v)\n",
        "\n",
        "        # Apply the transformation to T\n",
        "        T = H @ T @ H.T\n",
        "    return T\n",
        "\n",
        "# Example\n",
        "A = np.array([[1, 1, 0.5], [1, 1, 0.25], [0.5, 0.25, 2]], dtype=float)\n",
        "\n",
        "# Reduction to tridiagonal form\n",
        "T = householder_tridiagonal(A)\n",
        "print(\"Tridiagonal matrix:\")\n",
        "print(T)"
      ],
      "metadata": {
        "colab": {
          "base_uri": "https://localhost:8080/"
        },
        "id": "bqsRv2G9d0np",
        "outputId": "5b48c17e-a293-4960-dcc2-bedad1897401"
      },
      "execution_count": 14,
      "outputs": [
        {
          "output_type": "stream",
          "name": "stdout",
          "text": [
            "Tridiagonal matrix:\n",
            "[[ 1.00000000e+00  1.11803399e+00  2.77555756e-16]\n",
            " [ 1.11803399e+00  1.40000000e+00 -5.50000000e-01]\n",
            " [ 2.77555756e-16 -5.50000000e-01  1.60000000e+00]]\n"
          ]
        }
      ]
    },
    {
      "cell_type": "markdown",
      "source": [
        "1. Householder's method uses vectors v to construct reflection matrices H that zero out elements below adjacent diagonals.\n",
        "2. Unlike Givens's, Householder's method is more efficient for dense matrices because it operates on entire columns."
      ],
      "metadata": {
        "id": "iFCreV8C72iS"
      }
    }
  ]
}