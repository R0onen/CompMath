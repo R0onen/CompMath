{
  "nbformat": 4,
  "nbformat_minor": 0,
  "metadata": {
    "colab": {
      "provenance": []
    },
    "kernelspec": {
      "name": "python3",
      "display_name": "Python 3"
    },
    "language_info": {
      "name": "python"
    }
  },
  "cells": [
    {
      "cell_type": "markdown",
      "source": [
        "# **Solution of Simultaneous Algebraic Equations.**  Jacobi’s iteration method, Gauss Elimination method by pivoting, Gauss – Jordan method, Gauss – Seidel method.  Relaxation method, Ill-Conditioned Equations, Convergence of iteration methods."
      ],
      "metadata": {
        "id": "uwZozNvcGPtO"
      }
    },
    {
      "cell_type": "markdown",
      "source": [
        "1. Jacobi's Iteration Method\n",
        "\n",
        "How it works: The Jacobi method is an iterative method for solving a system of linear equations, where new values ​​of variables are calculated based on old values ​​from the previous iteration. For each equation, a separate variable is solved, and the value of that variable is updated using previous approximations."
      ],
      "metadata": {
        "id": "TvV7rV9eFqXc"
      }
    },
    {
      "cell_type": "code",
      "execution_count": 40,
      "metadata": {
        "id": "kcxZXBrMDTNS",
        "colab": {
          "base_uri": "https://localhost:8080/"
        },
        "outputId": "1789886a-a47c-4af1-b3dc-35866d7348b0"
      },
      "outputs": [
        {
          "output_type": "stream",
          "name": "stdout",
          "text": [
            "[ 0.85 -0.9   1.25]\n",
            "[ 0.93  -0.965  1.03 ]\n",
            "[ 0.90475 -0.988    1.01225]\n",
            "[ 0.901825 -0.9851    1.011325]\n",
            "[ 0.9018775 -0.9847075  1.0120525]\n",
            "[ 0.90196988 -0.984679    1.01210613]\n",
            "[ 0.90197666 -0.98469018  1.01210116]\n",
            "[ 0.90197561 -0.98469144  1.01209881]\n",
            "Root: [ 0.9 -1.   1. ]\n"
          ]
        }
      ],
      "source": [
        "import numpy as np\n",
        "\n",
        "def jacobi_method(A, b, x0, tol, max_iter):\n",
        "    n = len(b)\n",
        "    x = x0\n",
        "    for _ in range(max_iter):\n",
        "        x_new = np.zeros_like(x)\n",
        "        for i in range(n):\n",
        "            summation = sum(A[i][j] * x[j] for j in range(n) if j != i)\n",
        "            x_new[i] = (b[i] - summation) / A[i][i]\n",
        "        # Checking if we have achieved the desired accuracy\n",
        "        if np.linalg.norm(x_new - x, ord=np.inf) < tol:\n",
        "            return x_new\n",
        "        x = x_new\n",
        "        print(x)\n",
        "    return x\n",
        "\n",
        "# Example\n",
        "A = np.array([[20, -1, -2], [3, 20, -1], [2, -3, 20]], dtype=float)\n",
        "b = np.array([17, -18, 25], dtype=float)\n",
        "x0 = np.zeros(len(b))\n",
        "\n",
        "# Solution by Jacobi method\n",
        "root = jacobi_method(A, b, x0, tol=1e-6, max_iter=100)\n",
        "print(f\"Root: {np.round(root,1)}\")\n",
        "\n",
        "#x = np.linalg.solve(A, b)\n",
        "#x"
      ]
    },
    {
      "cell_type": "markdown",
      "source": [
        "1. The Jacobi method starts with initial guesses for all variables.\n",
        "2. For each equation, we solve for one variable using the values ​​from the previous iteration for all other variables.\n",
        "3. The method continues until the difference between the old and new guesses is less than a predetermined accuracy.\n",
        "4. Importantly, the Jacobi method converges if the system of equations satisfies a certain convergence condition."
      ],
      "metadata": {
        "id": "5GSUiouXF9W7"
      }
    },
    {
      "cell_type": "markdown",
      "source": [
        "2. Gauss Elimination Method\n",
        "\n",
        "How it works: The Gauss Elimination Method solves a system of linear equations by eliminating variables. It transforms the system into an upper triangular matrix and then uses back substitution to find the solution."
      ],
      "metadata": {
        "id": "yzFxt8HjGL5g"
      }
    },
    {
      "cell_type": "code",
      "source": [
        "def gauss_elimination(A, b):\n",
        "    n = len(b)\n",
        "    # Direct move (transformation to upper triangular matrix)\n",
        "    for i in range(n):\n",
        "        # Finding the maximum element to prevent division by 0\n",
        "        max_row = np.argmax(abs(A[i:n, i])) + i\n",
        "        A[[i, max_row]] = A[[max_row, i]]\n",
        "        b[i], b[max_row] = b[max_row], b[i]\n",
        "\n",
        "        for j in range(i+1, n):\n",
        "            factor = A[j, i] / A[i, i]\n",
        "            A[j, i:] -= factor * A[i, i:]\n",
        "            b[j] -= factor * b[i]\n",
        "\n",
        "    # Back substitution\n",
        "    x = np.zeros(n)\n",
        "    for i in range(n-1, -1, -1):\n",
        "        x[i] = (b[i] - np.dot(A[i, i+1:], x[i+1:])) / A[i, i]\n",
        "    return x\n",
        "\n",
        "# Example\n",
        "A = np.array([[10, -2, 3], [-2, 10, -1], [3, -1, 10]], dtype=float)\n",
        "b = np.array([3, 15, 27], dtype=float)\n",
        "\n",
        "# Solution by Gauss elimination method\n",
        "root = gauss_elimination(A, b)\n",
        "print(f\"Root: {np.round(root,2)}\")"
      ],
      "metadata": {
        "id": "KdNSKHugGji1",
        "colab": {
          "base_uri": "https://localhost:8080/"
        },
        "outputId": "6455cd91-0d4a-47db-b39a-e95b179b648b"
      },
      "execution_count": 16,
      "outputs": [
        {
          "output_type": "stream",
          "name": "stdout",
          "text": [
            "Root: [-0.23  1.75  2.94]\n"
          ]
        }
      ]
    },
    {
      "cell_type": "markdown",
      "source": [
        "1. Gauss's method involves reducing a system of equations to upper triangular form step by step, eliminating one variable at a time.\n",
        "2. It is important how the leading element (with the maximum value) is selected to reduce rounding errors.\n",
        "3. Once the matrix is ​​reduced to upper triangular form, back substitution is used to find the values ​​of the variables."
      ],
      "metadata": {
        "id": "WkjZgwQTG1gL"
      }
    },
    {
      "cell_type": "markdown",
      "source": [
        "3. Gauss-Jordan Method\n",
        "\n",
        "How it works: The Gauss-Jordan method is a modification of the Gauss method, where the elimination of variables occurs not only in the lower part of the matrix, but also in the upper part. The result is a diagonal matrix, from which the values ​​of the variables can be immediately extracted."
      ],
      "metadata": {
        "id": "zsY__XknG_su"
      }
    },
    {
      "cell_type": "code",
      "source": [
        "def gauss_jordan(A, b):\n",
        "    n = len(b)\n",
        "    augmented_matrix = np.hstack([A, b.reshape(-1, 1)])\n",
        "\n",
        "    # Direct move (transformation to diagonal matrix)\n",
        "    for i in range(n):\n",
        "        augmented_matrix[i] = augmented_matrix[i] / augmented_matrix[i, i]  # Normalize the string\n",
        "        for j in range(n):\n",
        "            if i != j:\n",
        "                factor = augmented_matrix[j, i]\n",
        "                augmented_matrix[j] -= factor * augmented_matrix[i]\n",
        "            print(augmented_matrix[:, -1])\n",
        "    return augmented_matrix[:, -1]\n",
        "\n",
        "# Example\n",
        "A = np.array([[10, -1, 2, 0], [-1, 11, -1, 3], [2, -1, 10, -1], [0, 3, -1, 8]], dtype=float)\n",
        "b = np.array([6, 25, -11, 15], dtype=float)\n",
        "\n",
        "# Solution by Gauss Jordan method\n",
        "root = gauss_jordan(A, b)\n",
        "print(f\"Root: {root}\")"
      ],
      "metadata": {
        "id": "q4CEMtnoHFaN",
        "colab": {
          "base_uri": "https://localhost:8080/"
        },
        "outputId": "486e3714-74c0-4aae-947c-9db81c8f26a0"
      },
      "execution_count": 17,
      "outputs": [
        {
          "output_type": "stream",
          "name": "stdout",
          "text": [
            "[  0.6  25.  -11.   15. ]\n",
            "[  0.6  25.6 -11.   15. ]\n",
            "[  0.6  25.6 -12.2  15. ]\n",
            "[  0.6  25.6 -12.2  15. ]\n",
            "[  0.83486239   2.34862385 -12.2         15.        ]\n",
            "[  0.83486239   2.34862385 -12.2         15.        ]\n",
            "[  0.83486239   2.34862385 -10.32110092  15.        ]\n",
            "[  0.83486239   2.34862385 -10.32110092   7.95412844]\n",
            "[ 1.04326923  2.34862385 -1.08173077  7.95412844]\n",
            "[ 1.04326923  2.26923077 -1.08173077  7.95412844]\n",
            "[ 1.04326923  2.26923077 -1.08173077  7.95412844]\n",
            "[ 1.04326923  2.26923077 -1.08173077  7.11057692]\n",
            "[ 1.          2.26923077 -1.08173077  1.        ]\n",
            "[ 1.          2.         -1.08173077  1.        ]\n",
            "[ 1.  2. -1.  1.]\n",
            "[ 1.  2. -1.  1.]\n",
            "Root: [ 1.  2. -1.  1.]\n"
          ]
        }
      ]
    },
    {
      "cell_type": "markdown",
      "source": [
        "1. The Gauss-Jordan method improves on the Gauss method, since after reducing the system to an upper triangular form, we also reduce it to a diagonal form.\n",
        "2. Unlike the Gauss method, here the reverse substitution is not required, since in the process of eliminating variables we immediately obtain a solution."
      ],
      "metadata": {
        "id": "OCftCzFpHY_-"
      }
    },
    {
      "cell_type": "markdown",
      "source": [
        "4. Gauss-Seidel Method\n",
        "\n",
        "Working principle: The Gauss-Seidel method is iterative, but, unlike the Jacobi method, it uses new values ​​of variables immediately after their calculation. This improves the convergence of the method if the system of equations satisfies the convergence conditions."
      ],
      "metadata": {
        "id": "S1XVFlXWHpNP"
      }
    },
    {
      "cell_type": "code",
      "source": [
        "def gauss_seidel(A, b, x0, tol, max_iter):\n",
        "    n = len(b)\n",
        "    x = x0\n",
        "    for _ in range(max_iter):\n",
        "        x_new = np.copy(x)\n",
        "        for i in range(n):\n",
        "            summation = sum(A[i][j] * x_new[j] for j in range(n) if j != i)\n",
        "            x_new[i] = (b[i] - summation) / A[i][i]\n",
        "        # Checking the stopping condition\n",
        "        if np.linalg.norm(x_new - x, ord=np.inf) < tol:\n",
        "            return x_new\n",
        "        x = x_new\n",
        "        print(x)\n",
        "    return x\n",
        "\n",
        "# Example\n",
        "A = np.array([[4, -1, 0, 0], [-1, 4, -1, 0], [0, -1, 4, -1], [0, 0, -1, 3]], dtype=float)\n",
        "b = np.array([15, 10, 10, 10], dtype=float)\n",
        "x0 = np.zeros(len(b))\n",
        "\n",
        "# Solution by Gauss-Seidel method\n",
        "root = gauss_seidel(A, b, x0, tol=1e-6, max_iter=100)\n",
        "print(f\"Root: {np.round(root,1)}\")"
      ],
      "metadata": {
        "id": "Nv9-gAX57W7A",
        "colab": {
          "base_uri": "https://localhost:8080/"
        },
        "outputId": "4edb96f2-f881-4e9d-aef6-96fb3487295b"
      },
      "execution_count": 18,
      "outputs": [
        {
          "output_type": "stream",
          "name": "stdout",
          "text": [
            "[3.75     3.4375   3.359375 4.453125]\n",
            "[4.609375   4.4921875  4.73632812 4.91210938]\n",
            "[4.87304688 4.90234375 4.95361328 4.98453776]\n",
            "[4.97558594 4.9822998  4.99170939 4.99723646]\n",
            "[4.99557495 4.99682109 4.99851439 4.9995048 ]\n",
            "[4.99920527 4.99942991 4.99973368 4.99991123]\n",
            "[4.99985748 4.99989779 4.99995225 4.99998408]\n",
            "[4.99997445 4.99998168 4.99999144 4.99999715]\n",
            "[4.99999542 4.99999671 4.99999847 4.99999949]\n",
            "[4.99999918 4.99999941 4.99999972 4.99999991]\n",
            "Root: [5. 5. 5. 5.]\n"
          ]
        }
      ]
    },
    {
      "cell_type": "markdown",
      "source": [
        "1. The Gauss-Seidel method updates each variable immediately after its calculation, which speeds up convergence.\n",
        "2. The method converges efficiently for diagonally dominant matrices (where ![Screenshot 2024-12-12 at 14-18-58 Сomputational Mathematics.png](data:image/png;base64,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)\n",
        "3. Iterations continue until the change between two successive solutions is less than a specified accuracy."
      ],
      "metadata": {
        "id": "ujInce-57o5M"
      }
    },
    {
      "cell_type": "markdown",
      "source": [
        "5. Relaxation Method\n",
        "\n",
        "Working principle: The relaxation method is an extension of the Gauss-Seidel method, where each new value of the variable is adjusted using the relaxation parameter ω to improve convergence."
      ],
      "metadata": {
        "id": "aPqEbmHQ85V2"
      }
    },
    {
      "cell_type": "code",
      "source": [
        "def relaxation_method(A, b, x0, tol, max_iter, omega):\n",
        "    n = len(b)\n",
        "    x = x0\n",
        "    for _ in range(max_iter):\n",
        "        x_new = np.copy(x)\n",
        "        for i in range(n):\n",
        "            summation = sum(A[i][j] * x_new[j] for j in range(n) if j != i)\n",
        "            x_new[i] = (1 - omega) * x[i] + omega * (b[i] - summation) / A[i][i]\n",
        "        # Checking the stopping condition\n",
        "        if np.linalg.norm(x_new - x, ord=np.inf) < tol:\n",
        "            return x_new\n",
        "        x = x_new\n",
        "        print(x)\n",
        "    return x\n",
        "\n",
        "# Example\n",
        "A = np.array([[10, -1, 2, 0], [-1, 11, -1, 3], [2, -1, 10, -1], [0, 3, -1, 8]], dtype=float)\n",
        "b = np.array([6, 25, -11, 15], dtype=float)\n",
        "x0 = np.zeros(len(b))\n",
        "\n",
        "# Solution by relaxation method\n",
        "root = relaxation_method(A, b, x0, tol=1e-6, max_iter=100, omega=1.2)\n",
        "print(f\"Root: {np.round(root)}\")"
      ],
      "metadata": {
        "id": "Xx8-pihF9E8s",
        "colab": {
          "base_uri": "https://localhost:8080/"
        },
        "outputId": "9651736f-0980-480c-a6d3-72a236f79009"
      },
      "execution_count": 20,
      "outputs": [
        {
          "output_type": "stream",
          "name": "stdout",
          "text": [
            "[ 0.72        2.80581818 -1.15610182  0.81396655]\n",
            "[ 1.19016262  1.90343576 -1.04833039  1.07341104]\n",
            "[ 0.96197906  1.98586727 -0.9740955   0.99556319]\n",
            "[ 0.99969118  2.00707085 -1.0047907   0.99698688]\n",
            "[ 1.00206003  1.99927405 -0.99998496  1.00093156]\n",
            "[ 0.99949727  1.99978711 -0.99979611  0.99994007]\n",
            "[ 1.00002607  2.00008728 -1.00004375  0.99996615]\n",
            "[ 1.00001576  1.99999057 -1.00000023  1.00001098]\n",
            "[ 0.99999577  1.99999781 -0.99999789  0.99999911]\n",
            "[ 1.00000008  2.00000097 -1.00000043  0.99999968]\n",
            "[ 1.0000002   1.99999989 -1.00000002  1.00000011]\n",
            "Root: [ 1.  2. -1.  1.]\n"
          ]
        }
      ]
    },
    {
      "cell_type": "markdown",
      "source": [
        "1. The relaxation parameter ω (usually 1<ω<2) controls the updating of variables by increasing or decreasing the step.\n",
        "2. Values ​​of ω greater than 1 speed up convergence, but too large values ​​can lead to divergence.\n",
        "3. The method is especially useful for ill-conditioned systems of equations."
      ],
      "metadata": {
        "id": "jKWI3JJc9PmU"
      }
    },
    {
      "cell_type": "markdown",
      "source": [
        "6. Ill-Conditioned Systems\n",
        "\n",
        "Example: Analysis of an Ill-Conditioned System\n",
        "\n",
        "Consider the system:![Screenshot 2024-12-12 at 14-22-57 Сomputational Mathematics.png](data:image/png;base64,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)"
      ],
      "metadata": {
        "id": "pjWUtdFn9hb_"
      }
    },
    {
      "cell_type": "code",
      "source": [
        "def ill_conditioned_example():\n",
        "    A = np.array([[1e-5, 1], [1, 1]], dtype=float)\n",
        "    b = np.array([1, 2], dtype=float)\n",
        "\n",
        "    # Modified coef.\n",
        "    A_mod = np.array([[1e-5, 1.1], [1.002, 1.001]], dtype=float)\n",
        "    b_mod = np.array([1, 2.002], dtype=float)\n",
        "\n",
        "    # Solution via numpy\n",
        "    try:\n",
        "        solution = np.linalg.solve(A, b)\n",
        "        print(f\"Solution: {solution}\")\n",
        "\n",
        "        solution_mod = np.linalg.solve(A_mod, b_mod)\n",
        "        print(f\"Solution with modified coef.: {solution_mod}\")\n",
        "    except np.linalg.LinAlgError as e:\n",
        "        print(f\"Error in solution: {e}\")\n",
        "\n",
        "# Using function\n",
        "ill_conditioned_example()"
      ],
      "metadata": {
        "id": "kIBstxZx9pq4",
        "colab": {
          "base_uri": "https://localhost:8080/"
        },
        "outputId": "c8a3f676-cca2-49e0-8c29-461cd1e38e35"
      },
      "execution_count": 46,
      "outputs": [
        {
          "output_type": "stream",
          "name": "stdout",
          "text": [
            "Solution: [1.00001 0.99999]\n",
            "Solution with modified coef.: [1.08983026 0.909081  ]\n"
          ]
        }
      ]
    },
    {
      "cell_type": "markdown",
      "source": [
        "1. An ill-conditioned system has a determinant or coefficient values ​​close to zero. This leads to numerical errors.\n",
        "2. The example shows that small changes in the coefficients or values ​​can significantly change the result."
      ],
      "metadata": {
        "id": "def2xg5e9-Ve"
      }
    },
    {
      "cell_type": "markdown",
      "source": [
        "7. Convergence of iterative methods\n",
        "\n",
        "Example: Convergence analysis for Jacobi and Gauss-Seidel methods"
      ],
      "metadata": {
        "id": "PCwlWwvE-N_t"
      }
    },
    {
      "cell_type": "code",
      "source": [
        "def check_convergence(A):\n",
        "    D = np.diag(np.abs(A))  # Diagonal elements\n",
        "    S = np.sum(np.abs(A), axis=1) - D  # Sum of off-diagonal elements\n",
        "    return np.all(D > S)  # Checking the diagonal dominance condition\n",
        "\n",
        "# Example of a matrix\n",
        "A1 = np.array([[4, -1, 0], [-1, 4, -1], [0, -1, 4]], dtype=float)\n",
        "A2 = np.array([[1, 1, 1], [1, 1, 1], [1, 1, 1]], dtype=float)\n",
        "\n",
        "print(f\"Martix A1: {'converges' if check_convergence(A1) else 'does not converge'}\")\n",
        "print(f\"Martix A2: {'converges' if check_convergence(A2) else 'does not converge'}\")"
      ],
      "metadata": {
        "id": "GgqSgf9N-TMk",
        "colab": {
          "base_uri": "https://localhost:8080/"
        },
        "outputId": "3da71a1c-9f05-474f-c9e1-e953d1a07383"
      },
      "execution_count": 28,
      "outputs": [
        {
          "output_type": "stream",
          "name": "stdout",
          "text": [
            "Martix A1: converges\n",
            "Martix A2: does not converge\n"
          ]
        }
      ]
    },
    {
      "cell_type": "markdown",
      "source": [
        "1. Diagonal dominance of the matrix is ​​a key convergence condition for the Jacobi and Gauss-Seidel methods.\n",
        "2. The code checks whether the condition ![Screenshot 2024-12-12 at 14-28-18 Сomputational Mathematics.png](data:image/png;base64,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) holds for each row."
      ],
      "metadata": {
        "id": "KnNx7L3X-qjN"
      }
    }
  ]
}